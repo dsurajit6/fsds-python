{
 "cells": [
  {
   "cell_type": "markdown",
   "id": "8da333f4-5394-465e-87b6-fca5d917b3f8",
   "metadata": {},
   "source": [
    "#### Define a class with a generator which can iterate the numbers, which are divisible by 7, between a given range 0 and n."
   ]
  },
  {
   "cell_type": "code",
   "execution_count": 2,
   "id": "d4f020d7-74ce-4c7e-b1c5-f64400c08b6e",
   "metadata": {},
   "outputs": [
    {
     "name": "stdout",
     "output_type": "stream",
     "text": [
      "0 7 14 21 28 35 42 49 56 63 70 77 84 91 98 "
     ]
    }
   ],
   "source": [
    "class SevenGenerator:\n",
    "    def __init__(self, end):\n",
    "        self.start = 0\n",
    "        self.end = end\n",
    "    def seven_divisibles(self):\n",
    "        while self.start <= self.end:\n",
    "            if self.start % 7 == 0:\n",
    "                yield self.start\n",
    "            self.start += 1\n",
    "\n",
    "sg = SevenGenerator(100)\n",
    "for n in sg.seven_divisibles():\n",
    "    print(n, end=\" \")"
   ]
  },
  {
   "cell_type": "markdown",
   "id": "8661c834-2d3a-4a77-90fb-9088e216c33e",
   "metadata": {},
   "source": [
    "#### Write a program to compute the frequency of the words from the input. The output should output after sorting the key alphanumerically."
   ]
  },
  {
   "cell_type": "code",
   "execution_count": 4,
   "id": "8c9287a4-ee0c-4489-828c-aa69e706556e",
   "metadata": {},
   "outputs": [
    {
     "name": "stdout",
     "output_type": "stream",
     "text": [
      "2:2\n",
      "3:1\n",
      "3?:1\n",
      "New:1\n",
      "Python:5\n",
      "Read:1\n",
      "and:1\n",
      "between:1\n",
      "choosing:1\n",
      "or:2\n",
      "to:1\n"
     ]
    }
   ],
   "source": [
    "def frequency_counter(given_string):\n",
    "    frequency = {}\n",
    "    for w in given_string.split():\n",
    "        if w in frequency.keys():\n",
    "            frequency[w] += 1\n",
    "        else:\n",
    "            frequency[w]=1\n",
    "    return dict(sorted(frequency.items()))\n",
    "\n",
    "res = frequency_counter(\"New to Python or choosing between Python 2 and Python 3? Read Python 2 or Python 3\")\n",
    "for w,f in res.items():\n",
    "    print(f\"{w}:{f}\")"
   ]
  },
  {
   "cell_type": "markdown",
   "id": "504e7d20-770e-45a2-ba4b-ff01b19579d5",
   "metadata": {},
   "source": [
    "#### Define a class Person and its two child classes: Male and Female. All classes have a method &quot;getGender&quot; which can print &quot;Male&quot; for Male class and &quot;Female&quot; for Female class."
   ]
  },
  {
   "cell_type": "code",
   "execution_count": 6,
   "id": "52018a29-f535-4e03-a1b0-47975d50da0d",
   "metadata": {},
   "outputs": [
    {
     "name": "stdout",
     "output_type": "stream",
     "text": [
      "Male\n",
      "Female\n"
     ]
    }
   ],
   "source": [
    "class Person:\n",
    "    pass\n",
    "\n",
    "class Male(Person):\n",
    "    def __init__(self):\n",
    "        self.gender = \"Male\"\n",
    "    def getGender(self):\n",
    "        return self.gender\n",
    "\n",
    "class Female(Person):\n",
    "    def __init__(self):\n",
    "        self.gender = \"Female\"\n",
    "    def getGender(self):\n",
    "        return self.gender\n",
    "\n",
    "sam = Male()\n",
    "print(sam.getGender())\n",
    "\n",
    "ria = Female()\n",
    "print(ria.getGender())"
   ]
  },
  {
   "cell_type": "markdown",
   "id": "5ea84786-40c9-4794-a870-23f85f8cad2d",
   "metadata": {},
   "source": [
    "#### Please write a program to generate all sentences where subject is in [&quot;I&quot;, &quot;You&quot;] and verb is in [&quot;Play&quot;, &quot;Love&quot;] and the object is in [&quot;Hockey&quot;,&quot;Football&quot;]."
   ]
  },
  {
   "cell_type": "code",
   "execution_count": 9,
   "id": "a2ce6b3c-ca25-4414-8b36-962d20873c23",
   "metadata": {},
   "outputs": [
    {
     "name": "stdout",
     "output_type": "stream",
     "text": [
      "I Play Hockey\n",
      "I Play Football\n",
      "I Love Hockey\n",
      "I Love Football\n",
      "You Play Hockey\n",
      "You Play Football\n",
      "You Love Hockey\n",
      "You Love Football\n"
     ]
    }
   ],
   "source": [
    "subjects=[\"I\", \"You\"]\n",
    "verbs=[\"Play\", \"Love\"]\n",
    "objects=[\"Hockey\",\"Football\"]\n",
    "for i in range(len(subjects)):\n",
    "    for j in range(len(verbs)):\n",
    "        for k in range(len(objects)):\n",
    "            sentence = f\"{subjects[i]} {verbs[j]} {objects[k]}\"\n",
    "            print(sentence)"
   ]
  },
  {
   "cell_type": "markdown",
   "id": "8c6fbcf1-854d-4cd7-b195-02784ca98b8e",
   "metadata": {},
   "source": [
    "#### Please write a program to compress and decompress the string &quot;hello world!hello world!hello world!hello world!&quot;."
   ]
  },
  {
   "cell_type": "code",
   "execution_count": 12,
   "id": "1152e676-cd32-4e0f-b90c-b5e1ae513a4a",
   "metadata": {},
   "outputs": [
    {
     "name": "stdout",
     "output_type": "stream",
     "text": [
      "b'x\\x9c\\xcbH\\xcd\\xc9\\xc9W(\\xcf/\\xcaIQ\\xcc \\x82\\r\\x00\\xbd[\\x11\\xf5'\n",
      "b'hello world!hello world!hello world!hello world!'\n"
     ]
    }
   ],
   "source": [
    "import zlib\n",
    "s = 'hello world!hello world!hello world!hello world!'\n",
    "y = bytes(s, 'utf-8')\n",
    "x = zlib.compress(y)\n",
    "print(x)\n",
    "print(zlib.decompress(x))"
   ]
  },
  {
   "cell_type": "markdown",
   "id": "7944feec-e551-40d9-bda6-a854682ee75a",
   "metadata": {},
   "source": [
    "#### Please write a binary search function which searches an item in a sorted list. The function should return the index of element to be searched in the list."
   ]
  },
  {
   "cell_type": "code",
   "execution_count": 18,
   "id": "d56c1c26-7113-4400-b163-c620e81e6f57",
   "metadata": {},
   "outputs": [
    {
     "name": "stdout",
     "output_type": "stream",
     "text": [
      "The Index of the element is 5\n"
     ]
    }
   ],
   "source": [
    "def binary_search(arr, key, low, high):\n",
    "    while low <= high:\n",
    "        mid = low + (high - low)//2\n",
    "        if arr[mid] == key:\n",
    "            return mid\n",
    "        elif arr[mid] < key:\n",
    "            low = mid + 1\n",
    "        else:\n",
    "            high = mid - 1\n",
    "    return -1\n",
    "\n",
    "arr = [1, 2, 3, 4, 5, 6, 7]\n",
    "key = 6\n",
    "index = binary_search(arr, key, 0, len(arr)-1)\n",
    "\n",
    "if index != -1:\n",
    "    print(\"The Index of the element is \" + str(index))\n",
    "else:\n",
    "    print(\"Element Not found\")"
   ]
  },
  {
   "cell_type": "code",
   "execution_count": null,
   "id": "cfc39b62-ee32-4462-bfb4-1b6dfdc7a297",
   "metadata": {},
   "outputs": [],
   "source": []
  }
 ],
 "metadata": {
  "kernelspec": {
   "display_name": "Python 3 (ipykernel)",
   "language": "python",
   "name": "python3"
  },
  "language_info": {
   "codemirror_mode": {
    "name": "ipython",
    "version": 3
   },
   "file_extension": ".py",
   "mimetype": "text/x-python",
   "name": "python",
   "nbconvert_exporter": "python",
   "pygments_lexer": "ipython3",
   "version": "3.10.6"
  }
 },
 "nbformat": 4,
 "nbformat_minor": 5
}
