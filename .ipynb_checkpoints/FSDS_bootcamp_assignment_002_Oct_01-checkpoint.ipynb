{
 "cells": [
  {
   "cell_type": "markdown",
   "metadata": {
    "id": "XumyqFp6MHnv"
   },
   "source": [
    "### 1. What is indentation error? Why indentation is important? Give one simple example?"
   ]
  },
  {
   "cell_type": "markdown",
   "metadata": {},
   "source": [
    "Indentation in python is used to define a block of code that will execute together on a certain condition. In python, indentation is given by 4 white spaces or a tab to align the block.\n",
    "\n",
    "We can get an indentation error when -\n",
    "- We use a statement that needs a block of code followed by it\n",
    "- Inside the block, we do not align the code properly.\n",
    "- Unnecessary whitespace or tab is used at the beginning of the line\n",
    "- Instead of 4 spaces more or less number of spaces is given\n",
    "\n",
    "**Ex 1:**\n",
    "```python\n",
    "if True:\n",
    "print(\"Hello\")\n",
    "\n",
    "OUTPUT:\n",
    "print(\"Hello\")\n",
    "^\n",
    "IndentationError: expected an indented block\n",
    "```\n",
    "Here, the if statement expects a block of code to be executed. As we are not giving any, we are getting an indentation error.\n",
    "\n",
    "**Ex 2:**\n",
    "```python\n",
    "if True:\n",
    "    print(\"Hello\")\n",
    "print(\"World\")\n",
    "    print(\"Welcome to Python 3.10\")\n",
    "\n",
    "OUTPUT:\n",
    "print(\"Welcome to Python 3.10\")\n",
    "^\n",
    "IndentationError: unexpected indent    \n",
    "```\n",
    "In this example, we are trying to execute 3 lines of code under the if statement. But as we brake the indentation in the 2nd print statement the indentation of the 3rd print statement became unexpected.\n"
   ]
  },
  {
   "cell_type": "markdown",
   "metadata": {},
   "source": [
    "### 2. Correct the following code and write the comment where you made the correction?"
   ]
  },
  {
   "cell_type": "code",
   "execution_count": 11,
   "metadata": {},
   "outputs": [
    {
     "name": "stdout",
     "output_type": "stream",
     "text": [
      "Hey friend, is class started?: [0-False/1-True]a\n",
      "Since class started...\n",
      "Lets concentrate\n"
     ]
    }
   ],
   "source": [
    "class_started = bool(input(\"Hey friend, is class started?: [0-False/1-True]\"))\n",
    "\n",
    "if class_started:\n",
    "    print(\"Since class started...\")\n",
    "    print(\"Lets concentrate\")\n",
    "else:\n",
    "    print(\"Since class is not started...\")\n",
    "    print(\"let's revise\")"
   ]
  },
  {
   "cell_type": "markdown",
   "metadata": {},
   "source": [
    "Everything looks okay to me. Already the input is converted to boolean. If I am missing something, please do correct me."
   ]
  },
  {
   "cell_type": "markdown",
   "metadata": {},
   "source": [
    "### 3. Use if else condition to verify that dataype of `input()` method in python is always string."
   ]
  },
  {
   "cell_type": "code",
   "execution_count": 18,
   "metadata": {},
   "outputs": [
    {
     "name": "stdout",
     "output_type": "stream",
     "text": [
      "Write something: 1234\n",
      "String data is given as input\n"
     ]
    }
   ],
   "source": [
    "my_var = input(\"Write something: \")\n",
    "\n",
    "if isinstance(my_var, str):\n",
    "    print(\"String data is given as input\")\n",
    "else:\n",
    "    print(\"Some other data type is given as input\")"
   ]
  },
  {
   "cell_type": "markdown",
   "metadata": {},
   "source": [
    "### 4. Take 3 variables and assign integer values to them. Find the largest variable, by only using the if and else conditions."
   ]
  },
  {
   "cell_type": "code",
   "execution_count": 28,
   "metadata": {},
   "outputs": [
    {
     "name": "stdout",
     "output_type": "stream",
     "text": [
      "Enter first variable value 3\n",
      "Enter second variable value 5\n",
      "Enter third variable value 4\n",
      "Second variable(value=5) is largest\n"
     ]
    }
   ],
   "source": [
    "var_1 = int(input(\"Enter first variable value \"))\n",
    "var_2 = int(input(\"Enter second variable value \"))\n",
    "var_3 = int(input(\"Enter third variable value \"))\n",
    "\n",
    "if var_1 > var_2:\n",
    "    if var_1 > var_3:\n",
    "        print(f\"First variable(value={var_1}) is largest\")\n",
    "    else:\n",
    "        print(f\"Third variable(value={var_3}) is largest\")\n",
    "else:\n",
    "    if var_2 > var_3:\n",
    "        print(f\"Second variable(value={var_2}) is largest\")\n",
    "    else:\n",
    "        print(f\"Third variable(value={var_3}) is largest\")"
   ]
  },
  {
   "cell_type": "markdown",
   "metadata": {},
   "source": [
    "### 5. What would be the solution?\n",
    "    1. True\n",
    "    2. False\n",
    "```python\n",
    "a = 6\n",
    "b = 10\n",
    "print( not ( not a == 10 or not b == 10) )\n",
    "```"
   ]
  },
  {
   "cell_type": "markdown",
   "metadata": {},
   "source": [
    "**Answer** is `false`. Because `not a == 10` is True. As both the condition are combined with `or` condition, result of `( not a == 10 or not b == 10)` is `True`. Outer `not` will invert the result."
   ]
  },
  {
   "cell_type": "markdown",
   "metadata": {},
   "source": [
    "### 6. Find the answer as well as find out the reason behind the result?"
   ]
  },
  {
   "cell_type": "markdown",
   "metadata": {},
   "source": [
    "##### Case - 1\n",
    "```python\n",
    "A = 5.0\n",
    "B = 10/2\n",
    "print(A is B)\n",
    "```\n",
    "**OUTPUT : False**\n",
    "<br>\n",
    "Though A and B have same value they have different address. `is` compare both value and address. As address of A and B are different the result is False."
   ]
  },
  {
   "cell_type": "markdown",
   "metadata": {},
   "source": [
    "#### Case - 2\n",
    "```python\n",
    "A = 5.0\n",
    "B = int(10/2)\n",
    "print(A is B)\n",
    "```\n",
    "***OUTPUT : False***\n",
    "<br>\n",
    "Value of A and B is different. A=5.0 and B=5. As python is dynnamic typed language, here A is float and B is int and address of both the variable is different."
   ]
  },
  {
   "cell_type": "markdown",
   "metadata": {},
   "source": [
    "##### Case - 3\n",
    "```python\n",
    "A = 5.0\n",
    "B = 10/2\n",
    "print(A is B)\n",
    "```\n",
    "**OUTPUT : False**\n",
    "<br>\n",
    "Though A and B have same value they have different address. `is` compare both value and address. As address of A and B are different the result is False."
   ]
  },
  {
   "cell_type": "markdown",
   "metadata": {},
   "source": [
    "### 7. Write a program that asks the user to enter a number. You should print out a message to the user, either “That number is divisible by either 3 or 5”, or “That number is not divisible by either 3 or 5”. Be sure to consider the data type of the input you are taking in from the user. Use a single if/else block to solve this problem."
   ]
  },
  {
   "cell_type": "code",
   "execution_count": 16,
   "metadata": {},
   "outputs": [
    {
     "name": "stdout",
     "output_type": "stream",
     "text": [
      "Enter a number: 25\n",
      "25 is divisible by either 3 or 5\n"
     ]
    }
   ],
   "source": [
    "num = int(input(\"Enter a number: \"))\n",
    "if num % 3 == 0 or num % 5 == 0:\n",
    "    print(f\"{num} is divisible by either 3 or 5\")\n",
    "else:\n",
    "    print(f\"{num} is not divisible by either 3 or 5\")"
   ]
  },
  {
   "cell_type": "markdown",
   "metadata": {},
   "source": [
    "### 8. Take user input for length and width. Then calculate the area of rectangle. Also print as per length and width whether its a square of rectangle."
   ]
  },
  {
   "cell_type": "code",
   "execution_count": 20,
   "metadata": {},
   "outputs": [
    {
     "name": "stdout",
     "output_type": "stream",
     "text": [
      "Enter length of the rectangle 3\n",
      "Enter breadth of the rectangle 3\n",
      "Its a Square. Area is 9.0\n"
     ]
    }
   ],
   "source": [
    "lenght = float(input(\"Enter length of the rectangle \"))\n",
    "breadth = float(input(\"Enter breadth of the rectangle \"))\n",
    "\n",
    "area = lenght * breadth\n",
    "if lenght == breadth:\n",
    "    print(f\"Its a Square. Area is {area}\")\n",
    "else:\n",
    "    print(f\"Its a rectangle. Area is {area}\")"
   ]
  },
  {
   "cell_type": "markdown",
   "metadata": {},
   "source": [
    "### 9. Take two variable radius_1 and radius_2 and calculate the area of circle_1 and circle_2. Also print which circle has large area. If area is equal then print area is equal."
   ]
  },
  {
   "cell_type": "code",
   "execution_count": 24,
   "metadata": {},
   "outputs": [
    {
     "name": "stdout",
     "output_type": "stream",
     "text": [
      "Enter the radious of the first circle 2\n",
      "Enter the radious of the second circle 3\n",
      "Area of the first circle is 12.571428571428571.\n",
      "Area of the second circle is 28.285714285714285\n",
      "Second Circle has the higher area.\n"
     ]
    }
   ],
   "source": [
    "radius_1 = float(input(\"Enter the radious of the first circle \"))\n",
    "radius_2 = float(input(\"Enter the radious of the second circle \"))\n",
    "\n",
    "area_1 = 22/7 * radius_1 * radius_1\n",
    "area_2 = 22/7 * radius_2 * radius_2\n",
    "\n",
    "if area_1 == area_2:\n",
    "    print(f\"Area of both the circle is same. Area of both the circle is {area_1}\")\n",
    "else:\n",
    "    if area_1 > area_2:\n",
    "        print(f\"Area of the first circle is {area_1}.\\nArea of the second circle is {area_2}\")\n",
    "        print(f\"First Circle has the higher area.\")\n",
    "    else:\n",
    "        print(f\"Area of the first circle is {area_1}.\\nArea of the second circle is {area_2}\")\n",
    "        print(f\"Second Circle has the higher area.\")"
   ]
  },
  {
   "cell_type": "markdown",
   "metadata": {},
   "source": [
    "### 10. Check whether a year is leap year or not. Use nested if...else to solve this problem. A leap year is exactly divisible by 4 except for century years (years ending with 00). The century year is a leap year only if it is perfectly divisible by 400."
   ]
  },
  {
   "cell_type": "code",
   "execution_count": 28,
   "metadata": {},
   "outputs": [
    {
     "name": "stdout",
     "output_type": "stream",
     "text": [
      "Enter a year: 2020\n",
      "2020 is leap year\n"
     ]
    }
   ],
   "source": [
    "year = int(input(\"Enter a year: \"))\n",
    "if year % 400 == 0:\n",
    "    print(f\"{year} is leap year\")\n",
    "else:\n",
    "    if year % 100 == 0:\n",
    "        print(f\"{year} is not leap year\")\n",
    "    else:\n",
    "        if year % 4 == 0:\n",
    "            print(f\"{year} is leap year\")\n",
    "        else:\n",
    "            print(f\"{year} is not leap year\")"
   ]
  },
  {
   "cell_type": "code",
   "execution_count": 32,
   "metadata": {},
   "outputs": [
    {
     "name": "stdout",
     "output_type": "stream",
     "text": [
      "Enter a year: 1900\n",
      "1900 is not leap year\n"
     ]
    }
   ],
   "source": [
    "year = int(input(\"Enter a year: \"))\n",
    "if (year % 400 == 0) or (year % 4 == 0 and year % 100 != 0):\n",
    "    print(f\"{year} is leap year\")\n",
    "else:\n",
    "    print(f\"{year} is not leap year\")"
   ]
  },
  {
   "cell_type": "code",
   "execution_count": null,
   "metadata": {},
   "outputs": [],
   "source": []
  }
 ],
 "metadata": {
  "colab": {
   "collapsed_sections": [],
   "provenance": []
  },
  "kernelspec": {
   "display_name": "Python 3",
   "language": "python",
   "name": "python3"
  },
  "language_info": {
   "codemirror_mode": {
    "name": "ipython",
    "version": 3
   },
   "file_extension": ".py",
   "mimetype": "text/x-python",
   "name": "python",
   "nbconvert_exporter": "python",
   "pygments_lexer": "ipython3",
   "version": "3.8.8"
  }
 },
 "nbformat": 4,
 "nbformat_minor": 1
}
