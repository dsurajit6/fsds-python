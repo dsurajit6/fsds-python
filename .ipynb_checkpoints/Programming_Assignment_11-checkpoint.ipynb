{
 "cells": [
  {
   "cell_type": "markdown",
   "id": "b4d1c54b",
   "metadata": {},
   "source": [
    "1. Write a Python program to find words which are greater than given length k?"
   ]
  },
  {
   "cell_type": "code",
   "execution_count": 2,
   "id": "45d559c4",
   "metadata": {},
   "outputs": [
    {
     "name": "stdout",
     "output_type": "stream",
     "text": [
      "Cut off length 5\n",
      "['Python', 'program', 'greater', 'length']\n"
     ]
    }
   ],
   "source": [
    "myStr = \"Write a Python program to find words which are greater than given length k\"\n",
    "l = int(input(\"Cut off length \"))\n",
    "lst = [w for w in myStr.split() if len(w)>l]\n",
    "print(lst)"
   ]
  },
  {
   "cell_type": "markdown",
   "id": "3f11cb20",
   "metadata": {},
   "source": [
    "2. Write a Python program for removing i-th character from a string?"
   ]
  },
  {
   "cell_type": "code",
   "execution_count": 3,
   "id": "77c9caee",
   "metadata": {},
   "outputs": [
    {
     "name": "stdout",
     "output_type": "stream",
     "text": [
      "Enter the position: 5\n",
      "I loe python\n"
     ]
    }
   ],
   "source": [
    "myStr = \"I love python\"\n",
    "pos = int(input(\"Enter the position: \"))\n",
    "lst=[]\n",
    "lst.extend(myStr)\n",
    "del lst[pos-1]\n",
    "myStr = \"\".join(lst)\n",
    "print(myStr)"
   ]
  },
  {
   "cell_type": "markdown",
   "id": "ab36178f",
   "metadata": {},
   "source": [
    "3. Write a Python program to split and join a string?"
   ]
  },
  {
   "cell_type": "code",
   "execution_count": 4,
   "id": "4a5708f4",
   "metadata": {},
   "outputs": [
    {
     "name": "stdout",
     "output_type": "stream",
     "text": [
      "After Split:  ['Write', 'a', 'Python', 'program', 'to', 'find', 'words', 'which', 'are', 'greater', 'than', 'given', 'length', 'k']\n",
      "After join:  Write a Python program to find words which are greater than given length k\n"
     ]
    }
   ],
   "source": [
    "myStr = \"Write a Python program to find words which are greater than given length k\"\n",
    "lst = myStr.split()\n",
    "print(\"After Split: \", lst)\n",
    "newStr = \" \".join(lst)\n",
    "print(\"After join: \", newStr)"
   ]
  },
  {
   "cell_type": "markdown",
   "id": "ecf1e76e",
   "metadata": {},
   "source": [
    "4. Write a Python to check if a given string is binary string or not?"
   ]
  },
  {
   "cell_type": "code",
   "execution_count": 6,
   "id": "c0708489",
   "metadata": {},
   "outputs": [
    {
     "name": "stdout",
     "output_type": "stream",
     "text": [
      "Enter a String: 1110101010111000\n",
      "Binary String\n"
     ]
    }
   ],
   "source": [
    "def isBinaryString(string):\n",
    "    for c in string:\n",
    "        if c not in ['0', '1']:\n",
    "            return False\n",
    "    return True\n",
    "\n",
    "string = input(\"Enter a String: \")\n",
    "if(isBinaryString(string)):\n",
    "    print(\"Binary String\")\n",
    "else:\n",
    "    print(\"Not a Binary String\")\n",
    "    "
   ]
  },
  {
   "cell_type": "markdown",
   "id": "cf52c6a1",
   "metadata": {},
   "source": [
    "5. Write a Python program to find uncommon words from two Strings?"
   ]
  },
  {
   "cell_type": "code",
   "execution_count": 8,
   "id": "f0a77c5d",
   "metadata": {},
   "outputs": [
    {
     "name": "stdout",
     "output_type": "stream",
     "text": [
      "Enter the first string i love python\n",
      "Enter the second string everyone love python\n",
      "['i', 'everyone']\n"
     ]
    }
   ],
   "source": [
    "stringOne = input(\"Enter the first string \")\n",
    "stringTwo = input(\"Enter the second string \")\n",
    "setOne = set(stringOne.split())\n",
    "setTwo = set(stringTwo.split())\n",
    "res = []\n",
    "res.extend(list(setOne.difference(setTwo)))\n",
    "res.extend(list(setTwo.difference(setOne)))\n",
    "print(res)"
   ]
  },
  {
   "cell_type": "markdown",
   "id": "d703981d",
   "metadata": {},
   "source": [
    "6. Write a Python to find all duplicate characters in string?"
   ]
  },
  {
   "cell_type": "code",
   "execution_count": 9,
   "id": "a0b7be50",
   "metadata": {},
   "outputs": [
    {
     "name": "stdout",
     "output_type": "stream",
     "text": [
      "{'e', 'i', 'a', 'c', 'n', ' ', 'h', 'o', 'l', 's', 't', 'r', 'd'}\n"
     ]
    }
   ],
   "source": [
    "myStr = \"Write a Python to find all duplicate characters in string\"\n",
    "res = {c for c in myStr if myStr.count(c)>1 }\n",
    "print(res)"
   ]
  },
  {
   "cell_type": "markdown",
   "id": "c2d101f9",
   "metadata": {},
   "source": [
    "7. Write a Python Program to check if a string contains any special character?"
   ]
  },
  {
   "cell_type": "code",
   "execution_count": 10,
   "id": "26c39d83",
   "metadata": {},
   "outputs": [
    {
     "name": "stdout",
     "output_type": "stream",
     "text": [
      "Enter a string Hello World!\n",
      "Special character avaialable\n"
     ]
    }
   ],
   "source": [
    "from string import punctuation\n",
    "def hasSpecialChar(string):\n",
    "    for c in string:\n",
    "        if c in punctuation:\n",
    "            return True\n",
    "    return False\n",
    "string = input(\"Enter a string \")\n",
    "if hasSpecialChar(string):\n",
    "    print(\"Special character avaialable\")\n",
    "else:\n",
    "    print(\"Special character not available\")"
   ]
  },
  {
   "cell_type": "code",
   "execution_count": null,
   "id": "fc498416",
   "metadata": {},
   "outputs": [],
   "source": []
  }
 ],
 "metadata": {
  "kernelspec": {
   "display_name": "Python 3",
   "language": "python",
   "name": "python3"
  },
  "language_info": {
   "codemirror_mode": {
    "name": "ipython",
    "version": 3
   },
   "file_extension": ".py",
   "mimetype": "text/x-python",
   "name": "python",
   "nbconvert_exporter": "python",
   "pygments_lexer": "ipython3",
   "version": "3.8.8"
  }
 },
 "nbformat": 4,
 "nbformat_minor": 5
}
