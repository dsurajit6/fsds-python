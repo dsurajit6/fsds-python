{
 "cells": [
  {
   "cell_type": "markdown",
   "id": "e4237df3",
   "metadata": {},
   "source": [
    "### 1. Write a Python Program to Find LCM?"
   ]
  },
  {
   "cell_type": "code",
   "execution_count": 4,
   "id": "10b5321d",
   "metadata": {},
   "outputs": [
    {
     "name": "stdout",
     "output_type": "stream",
     "text": [
      "Enter first number 11\n",
      "Enter second number 15\n",
      "LCM of 11 and 15 is 165\n"
     ]
    }
   ],
   "source": [
    "num_1 = int(input(\"Enter first number \"))\n",
    "num_2 = int(input(\"Enter second number \"))\n",
    "next_num = 0 \n",
    "lcm=1\n",
    "if num_1 > num_2:\n",
    "    next_num = num_1\n",
    "else:\n",
    "    next_num = num_2\n",
    "    \n",
    "while True:\n",
    "    if next_num % num_1 == 0 and next_num % num_2 == 0:\n",
    "        lcm=next_num\n",
    "        break\n",
    "    next_num += 1\n",
    "\n",
    "print(f\"LCM of {num_1} and {num_2} is {lcm}\")"
   ]
  },
  {
   "cell_type": "markdown",
   "id": "8dcf9f55",
   "metadata": {},
   "source": [
    "### 2. Write a Python Program to Find HCF?"
   ]
  },
  {
   "cell_type": "code",
   "execution_count": 9,
   "id": "920a578b",
   "metadata": {},
   "outputs": [
    {
     "name": "stdout",
     "output_type": "stream",
     "text": [
      "Enter first number 50\n",
      "Enter second number 10\n",
      "HCF of 50 and 10 is 10\n"
     ]
    }
   ],
   "source": [
    "num_1 = int(input(\"Enter first number \"))\n",
    "num_2 = int(input(\"Enter second number \"))\n",
    "limit = 0 \n",
    "hcf=1\n",
    "if num_1 > num_2:\n",
    "    limit = num_2\n",
    "else:\n",
    "    limit = num_1\n",
    "    \n",
    "for n in range(1, limit+1):\n",
    "    if num_1 % n == 0 and num_2 % n == 0:\n",
    "        hcf=n\n",
    "\n",
    "print(f\"HCF of {num_1} and {num_2} is {hcf}\")"
   ]
  },
  {
   "cell_type": "markdown",
   "id": "421bc081",
   "metadata": {},
   "source": [
    "### 3. Write a Python Program to Convert Decimal to Binary, Octal and Hexadecimal?"
   ]
  },
  {
   "cell_type": "code",
   "execution_count": 27,
   "id": "8524cd6e",
   "metadata": {},
   "outputs": [
    {
     "name": "stdout",
     "output_type": "stream",
     "text": [
      "Enter a decimal number 27\n",
      "binary equivalant of 27 is 11011\n",
      "octal equivalant of 27 is 33\n",
      "Hexadecimal equivalant of 27 is 1B\n"
     ]
    }
   ],
   "source": [
    "num = int(input(\"Enter a decimal number \"))\n",
    "binary = 0\n",
    "octal = 0\n",
    "hexa = \"\"\n",
    "hex_table ={1:'1', 2:'2', 3:'3', 4:'4', 5:'5', 6:'6', 7:'7', 8:'8', 9:'9', 10:'A', 11:'B', 12:'C', 13:'D', 14:'E',15:'F'}\n",
    "\n",
    "temp = num\n",
    "i=0\n",
    "while temp > 0:\n",
    "    r = temp % 2\n",
    "    binary =  binary + (10**i)*r\n",
    "    temp = temp // 2\n",
    "    i += 1\n",
    "print(f\"binary equivalant of {num} is {binary}\")\n",
    "\n",
    "temp = num\n",
    "i=0\n",
    "while temp > 0:\n",
    "    r = temp % 8\n",
    "    octal = octal + (10**i)*r\n",
    "    temp = temp //8\n",
    "    i += 1\n",
    "print(f\"octal equivalant of {num} is {octal}\")\n",
    "\n",
    "temp = num\n",
    "while temp > 0:\n",
    "    r = temp % 16\n",
    "    hexa += hex_table.get(r)\n",
    "    temp = temp // 16\n",
    "print(f\"Hexadecimal equivalant of {num} is {hexa[::-1]}\")"
   ]
  },
  {
   "cell_type": "markdown",
   "id": "e70107ea",
   "metadata": {},
   "source": [
    "### 4. Write a Python Program To Find ASCII value of a character?"
   ]
  },
  {
   "cell_type": "code",
   "execution_count": 29,
   "id": "dcffa922",
   "metadata": {},
   "outputs": [
    {
     "name": "stdout",
     "output_type": "stream",
     "text": [
      "Enter a single character A\n",
      "ASCII value of A is 65\n"
     ]
    }
   ],
   "source": [
    "ch = input(\"Enter a single character \")\n",
    "print(f\"ASCII value of {ch} is {ord(ch)}\")"
   ]
  },
  {
   "cell_type": "markdown",
   "id": "9f2646f3",
   "metadata": {},
   "source": [
    "### 5. Write a Python Program to Make a Simple Calculator with 4 basic mathematical operations?"
   ]
  },
  {
   "cell_type": "code",
   "execution_count": 34,
   "id": "c0e2c423",
   "metadata": {},
   "outputs": [
    {
     "name": "stdout",
     "output_type": "stream",
     "text": [
      "Enter first number: 5\n",
      "Operator(+, -, *, /):  /\n",
      "Enter second number: 2\n",
      "5 / 2 = 2.5\n"
     ]
    }
   ],
   "source": [
    "num_1 = int(input(\"Enter first number: \"))\n",
    "op = input(\"Operator(+, -, *, /):  \")\n",
    "num_2 = int(input(\"Enter second number: \"))\n",
    "if op == '+':\n",
    "    print(f\"{num_1} {op} {num_2} = {num_1 + num_2}\")\n",
    "elif op == '-':\n",
    "    print(f\"{num_1} {op} {num_2} = {num_1 - num_2}\")\n",
    "elif op == '*':\n",
    "    print(f\"{num_1} {op} {num_2} = {num_1 * num_2}\")\n",
    "elif op == '/':\n",
    "    print(f\"{num_1} {op} {num_2} = {num_1 / num_2}\")\n",
    "else:\n",
    "    print(\"Inavlid Operation\")"
   ]
  },
  {
   "cell_type": "code",
   "execution_count": null,
   "id": "b51b50e9",
   "metadata": {},
   "outputs": [],
   "source": []
  }
 ],
 "metadata": {
  "kernelspec": {
   "display_name": "Python 3",
   "language": "python",
   "name": "python3"
  },
  "language_info": {
   "codemirror_mode": {
    "name": "ipython",
    "version": 3
   },
   "file_extension": ".py",
   "mimetype": "text/x-python",
   "name": "python",
   "nbconvert_exporter": "python",
   "pygments_lexer": "ipython3",
   "version": "3.8.8"
  }
 },
 "nbformat": 4,
 "nbformat_minor": 5
}
