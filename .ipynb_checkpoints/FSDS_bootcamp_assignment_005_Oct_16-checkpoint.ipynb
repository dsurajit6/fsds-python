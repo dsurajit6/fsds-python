{
 "cells": [
  {
   "cell_type": "markdown",
   "metadata": {
    "id": "n3FuI-mutNl6"
   },
   "source": [
    "# List, Tuple and Sets"
   ]
  },
  {
   "cell_type": "markdown",
   "metadata": {
    "id": "hZcGNSR2y9zW"
   },
   "source": [
    "#### 1. On amazon website we have the following available items - \n",
    "\n",
    "```python\n",
    "amazon_website = [(\"watch\", 5000), (\"phone\", 10000), (\"laptop\", 50000), (\"shirt\", 1000)]\n",
    "```\n",
    "Take the user input N no. of times and find out the total cost to be paid?\n",
    "\n",
    "OR\n",
    "\n",
    "You can ask the user quntity or the count of item?\n",
    "\n",
    "if the item is not present in the amazon website then print that item as out of stock and do add it total\n",
    "\n",
    "\n",
    "HINT: while, for loop.. indexing"
   ]
  },
  {
   "cell_type": "code",
   "execution_count": 1,
   "metadata": {},
   "outputs": [
    {
     "name": "stdout",
     "output_type": "stream",
     "text": [
      "What do you want to buy? shirt\n",
      "How many shirt you want to buy? 3\n",
      "Do you want to buy anything else?(yes/no) yes\n",
      "What do you want to buy? cpu\n",
      "Sorry this item is not available in our stock\n",
      "Do you want to buy anything else?(yes/no) yes\n",
      "What do you want to buy? mobile\n",
      "Sorry this item is not available in our stock\n",
      "Do you want to buy anything else?(yes/no) yes\n",
      "What do you want to buy? phone\n",
      "How many phone you want to buy? 3\n",
      "Do you want to buy anything else?(yes/no) yes\n",
      "What do you want to buy? shirt\n",
      "How many shirt you want to buy? 2\n",
      "Do you want to buy anything else?(yes/no) no\n",
      "phone : 3 x 10000 = 30000\n",
      "shirt : 5 x 1000 = 5000\n",
      "Total bill is 35000\n"
     ]
    }
   ],
   "source": [
    "amazon_website = [(\"watch\", 5000), (\"phone\", 10000), (\"laptop\", 50000), (\"shirt\", 1000)]\n",
    "cart = []\n",
    "total_price = 0\n",
    "products = [p[0] for p in amazon_website]\n",
    "while True:\n",
    "    item = input(\"What do you want to buy? \").lower()\n",
    "    if item in products:\n",
    "        quantity = int(input(f\"How many {item} you want to buy? \"))\n",
    "        for cart_item in cart:\n",
    "            if item == cart_item[0]:\n",
    "                quantity += cart_item[1]\n",
    "                cart.remove(cart_item)\n",
    "                break\n",
    "        cart.append((item, quantity))\n",
    "    else:\n",
    "        print(\"Sorry this item is not available in our stock\")\n",
    "    cont = input(\"Do you want to buy anything else?(yes/no) \")\n",
    "    if(cont.lower() == \"no\"):\n",
    "        break\n",
    "# print(cart)\n",
    "for cart_item in cart:\n",
    "    for product in amazon_website:\n",
    "        if cart_item[0] == product[0]:\n",
    "            print(f\"{cart_item[0]} : {cart_item[1]} x {product[1]} = {cart_item[1] * product[1]}\")\n",
    "            total_price += cart_item[1] * product[1]\n",
    "print(f\"Total bill is {total_price}\")"
   ]
  },
  {
   "cell_type": "markdown",
   "metadata": {
    "id": "FQrKC2gzzsUm"
   },
   "source": [
    "#### 2. What will be the output of the following code snippet?\n",
    "\n",
    "```\n",
    "arr = [1, 2, 3, 4, 5, 6]\n",
    "for i in range(1, 6):\n",
    "    arr[i - 1] = arr[i]\n",
    "for i in range(0, 6): \n",
    "    print(arr[i], end = \" \")\n",
    "```"
   ]
  },
  {
   "cell_type": "markdown",
   "metadata": {},
   "source": [
    "### Output: 2 3 4 5 6 6 \n",
    "The first for loop will copy element form currect index to previous index starting from index 1 to index 5. The second for will print the list items form zero to 5th index."
   ]
  },
  {
   "cell_type": "markdown",
   "metadata": {
    "id": "nL_DZJFS0ZZF"
   },
   "source": [
    "#### 3. Write a Python program to find the repeated items of a tuple."
   ]
  },
  {
   "cell_type": "code",
   "execution_count": 2,
   "metadata": {},
   "outputs": [
    {
     "name": "stdout",
     "output_type": "stream",
     "text": [
      "{2, 3, 5}\n"
     ]
    }
   ],
   "source": [
    "my_tuple = (1,2,3,2,4,3,2,6,3,5,5,7)\n",
    "repeated_elements = set()\n",
    "for t in my_tuple:\n",
    "    if my_tuple.count(t)>1:\n",
    "        repeated_elements.add(t)\n",
    "print(repeated_elements)"
   ]
  },
  {
   "cell_type": "code",
   "execution_count": 3,
   "metadata": {},
   "outputs": [
    {
     "data": {
      "text/plain": [
       "{2, 3, 5}"
      ]
     },
     "execution_count": 3,
     "metadata": {},
     "output_type": "execute_result"
    }
   ],
   "source": [
    "my_tuple = (1,2,3,2,4,3,2,6,3,5,5,7)\n",
    "rep_list = [i for i in my_tuple if my_tuple.count(i)>1]\n",
    "set(rep_list)"
   ]
  },
  {
   "cell_type": "markdown",
   "metadata": {
    "id": "ne8WpLZZ1GSm"
   },
   "source": [
    "### 4. Replace last value of tuples in a list with 500. Try using list comprehension\n",
    "\n",
    "Example -: \n",
    "```\n",
    "Input -:\n",
    "\n",
    "[(10, 20, 40), (40, 50, 60), (70, 80, 90)]\n",
    "\n",
    "Output -:\n",
    "[(10, 20, 500), (40, 50, 500), (70, 80, 500)]\n",
    "\n",
    "\n",
    "```\n"
   ]
  },
  {
   "cell_type": "code",
   "execution_count": 4,
   "metadata": {
    "id": "YpvH9Di21z-O"
   },
   "outputs": [
    {
     "name": "stdout",
     "output_type": "stream",
     "text": [
      "[(10, 20, 500), (40, 50, 500), (70, 80, 500)]\n"
     ]
    }
   ],
   "source": [
    "my_list = [(10, 20, 40), (40, 50, 60), (70, 80, 90)]\n",
    "new_list = []\n",
    "for item in my_list:\n",
    "    item = list(item)\n",
    "    item[len(item)-1] = 500\n",
    "    new_list.append(tuple(item))\n",
    "print(new_list)"
   ]
  },
  {
   "cell_type": "code",
   "execution_count": 5,
   "metadata": {
    "id": "mbx4uz9Y2bHk"
   },
   "outputs": [
    {
     "data": {
      "text/plain": [
       "[(10, 20, 500), (40, 50, 500), (70, 80, 500)]"
      ]
     },
     "execution_count": 5,
     "metadata": {},
     "output_type": "execute_result"
    }
   ],
   "source": [
    "my_list = [(10, 20, 40), (40, 50, 60), (70, 80, 90)]\n",
    "[tuple([500 if i==len(item)-1 else item[i] for i in range(len(item)) ]) for item in my_list ]"
   ]
  },
  {
   "cell_type": "code",
   "execution_count": null,
   "metadata": {},
   "outputs": [],
   "source": []
  }
 ],
 "metadata": {
  "colab": {
   "collapsed_sections": [],
   "provenance": []
  },
  "kernelspec": {
   "display_name": "Python 3",
   "language": "python",
   "name": "python3"
  },
  "language_info": {
   "codemirror_mode": {
    "name": "ipython",
    "version": 3
   },
   "file_extension": ".py",
   "mimetype": "text/x-python",
   "name": "python",
   "nbconvert_exporter": "python",
   "pygments_lexer": "ipython3",
   "version": "3.8.8"
  }
 },
 "nbformat": 4,
 "nbformat_minor": 1
}
