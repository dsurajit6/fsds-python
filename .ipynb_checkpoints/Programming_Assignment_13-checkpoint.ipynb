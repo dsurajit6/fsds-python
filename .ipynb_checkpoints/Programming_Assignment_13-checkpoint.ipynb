{
 "cells": [
  {
   "cell_type": "markdown",
   "id": "3dfb67c5",
   "metadata": {},
   "source": [
    "Question 1:\n",
    "Write a program that calculates and prints the value according to the given formula:\n",
    "Q = Square root of [(2 * C * D)/H]\n",
    "Following are the fixed values of C and H:\n",
    "C is 50. H is 30.\n",
    "D is the variable whose values should be input to your program in a comma-separated\n",
    "sequence.\n",
    "Example\n",
    "Let us assume the following comma separated input sequence is given to the program:\n",
    "100,150,180\n",
    "The output of the program should be:\n",
    "18,22,24"
   ]
  },
  {
   "cell_type": "code",
   "execution_count": 8,
   "id": "e8c9c2fa",
   "metadata": {},
   "outputs": [
    {
     "name": "stdout",
     "output_type": "stream",
     "text": [
      "Enter numbers seperated by comma100,150,180\n",
      "18,22,24\n"
     ]
    }
   ],
   "source": [
    "from math import sqrt\n",
    "def func_one(d):\n",
    "    c = 50\n",
    "    h = 30\n",
    "    temp=(2*c*d)/h\n",
    "    return int(sqrt(temp))\n",
    "\n",
    "nums = input(\"Enter numbers seperated by comma\")\n",
    "num_list = nums.split(\",\")\n",
    "res_list=[]\n",
    "for num in num_list:\n",
    "    res_list.append(str(func_one(int(num))))\n",
    "res = \",\".join(res_list)\n",
    "print(res)"
   ]
  },
  {
   "cell_type": "markdown",
   "id": "2909e914",
   "metadata": {},
   "source": [
    "Question 2:\n",
    "Write a program which takes 2 digits, X,Y as input and generates a 2-dimensional array. The\n",
    "element value in the i-th row and j-th column of the array should be i*j.\n",
    "Note: i=0,1.., X-1; j=0,1,¡Y-1.\n",
    "Example\n",
    "Suppose the following inputs are given to the program:\n",
    "3,5\n",
    "Then, the output of the program should be:\n",
    "[[0, 0, 0, 0, 0], [0, 1, 2, 3, 4], [0, 2, 4, 6, 8]]"
   ]
  },
  {
   "cell_type": "code",
   "execution_count": 16,
   "id": "dc4821f2",
   "metadata": {},
   "outputs": [
    {
     "name": "stdout",
     "output_type": "stream",
     "text": [
      "Enter dimention of the 2D array seperated by comma 3,5\n",
      "[[0, 0, 0, 0, 0], [0, 1, 2, 3, 4], [0, 2, 4, 6, 8]]\n"
     ]
    }
   ],
   "source": [
    "ip = input(\"Enter dimention of the 2D array seperated by comma \")\n",
    "X,Y=int(ip[0]), int(ip[2])\n",
    "matrix = []\n",
    "for i in range(X):\n",
    "    temp = []\n",
    "    for j in range(Y):\n",
    "        temp.append(i*j)\n",
    "    matrix.append(temp)\n",
    "print(matrix)"
   ]
  },
  {
   "cell_type": "markdown",
   "id": "61660dfd",
   "metadata": {},
   "source": [
    "Question 3:\n",
    "Write a program that accepts a comma separated sequence of words as input and prints the\n",
    "words in a comma-separated sequence after sorting them alphabetically.\n",
    "Suppose the following input is supplied to the program:\n",
    "without,hello,bag,world\n",
    "Then, the output should be:\n",
    "bag,hello,without,world"
   ]
  },
  {
   "cell_type": "code",
   "execution_count": 17,
   "id": "bde8b5db",
   "metadata": {},
   "outputs": [
    {
     "name": "stdout",
     "output_type": "stream",
     "text": [
      "Enter words separated by comma without,hello,bag,world\n",
      "bag,hello,without,world\n"
     ]
    }
   ],
   "source": [
    "ip = input(\"Enter words separated by comma \")\n",
    "l = ip.split(\",\")\n",
    "l.sort()\n",
    "res = \",\".join(l)\n",
    "print(res)"
   ]
  },
  {
   "cell_type": "markdown",
   "id": "76e159b4",
   "metadata": {},
   "source": [
    "Question 4:\n",
    "Write a program that accepts a sequence of whitespace separated words as input and prints\n",
    "the words after removing all duplicate words and sorting them alphanumerically.\n",
    "Suppose the following input is supplied to the program:\n",
    "hello world and practice makes perfect and hello world again\n",
    "Then, the output should be:\n",
    "again and hello makes perfect practice world"
   ]
  },
  {
   "cell_type": "code",
   "execution_count": 18,
   "id": "9d92c9be",
   "metadata": {},
   "outputs": [
    {
     "name": "stdout",
     "output_type": "stream",
     "text": [
      "Enter string of words hello world and practice makes perfect and hello world again \n",
      "again and hello makes perfect practice world\n"
     ]
    }
   ],
   "source": [
    "ip = input(\"Enter string of words \")\n",
    "l = list(set(ip.split()))\n",
    "l.sort()\n",
    "print(\" \".join(l))\n"
   ]
  },
  {
   "cell_type": "markdown",
   "id": "ec1467cd",
   "metadata": {},
   "source": [
    "Question 5:\n",
    "Write a program that accepts a sentence and calculate the number of letters and digits.\n",
    "Suppose the following input is supplied to the program:\n",
    "hello world! 123\n",
    "Then, the output should be:\n",
    "LETTERS 10\n",
    "\n",
    "DIGITS 3"
   ]
  },
  {
   "cell_type": "code",
   "execution_count": 20,
   "id": "827b7ee0",
   "metadata": {},
   "outputs": [
    {
     "name": "stdout",
     "output_type": "stream",
     "text": [
      "Enter a string hello world! 123\n",
      "LETTERS 10\n",
      "DIGIT 3\n"
     ]
    }
   ],
   "source": [
    "from string import ascii_letters, digits\n",
    "ip = input(\"Enter a string \")\n",
    "lc = 0\n",
    "dc = 0\n",
    "for c in ip:\n",
    "    if c in ascii_letters:\n",
    "        lc+=1\n",
    "    elif c in digits:\n",
    "        dc +=1\n",
    "print(\"LETTERS\",lc)\n",
    "print(\"DIGIT\",dc)"
   ]
  },
  {
   "cell_type": "markdown",
   "id": "59e6b2d7",
   "metadata": {},
   "source": [
    "Question 6:\n",
    "A website requires the users to input username and password to register. Write a program to\n",
    "check the validity of password input by users.\n",
    "Following are the criteria for checking the password:\n",
    "1. At least 1 letter between [a-z]\n",
    "2. At least 1 number between [0-9]\n",
    "1. At least 1 letter between [A-Z]\n",
    "3. At least 1 character from [$#@]\n",
    "4. Minimum length of transaction password: 6\n",
    "5. Maximum length of transaction password: 12\n",
    "Your program should accept a sequence of comma separated passwords and will check them\n",
    "according to the above criteria. Passwords that match the criteria are to be printed, each\n",
    "separated by a comma.\n",
    "Example\n",
    "If the following passwords are given as input to the program:\n",
    "ABd1234@1,a F1#,2w3E*,2We3345\n",
    "Then, the output of the program should be:\n",
    "ABd1234@1"
   ]
  },
  {
   "cell_type": "code",
   "execution_count": 22,
   "id": "1c99c3b6",
   "metadata": {},
   "outputs": [
    {
     "name": "stdout",
     "output_type": "stream",
     "text": [
      "Enter passwords seperated by comma ABd1234@1,a F1#,2w3E*,2We3345\n",
      "ABd1234@1\n"
     ]
    }
   ],
   "source": [
    "import re\n",
    "from string import ascii_lowercase, ascii_uppercase, digits\n",
    "def isValidPassword(password):\n",
    "    if not re.search(\"[a-z]\", password):\n",
    "        return False\n",
    "    elif not re.search(\"[A-Z]\", password):\n",
    "        return False\n",
    "    elif not re.search(\"[0-9]\", password):\n",
    "        return False\n",
    "    elif not re.search(\"[$#@]\", password):\n",
    "        return False\n",
    "    elif len(password)<6 or len(password)>12:\n",
    "        return False\n",
    "    else:\n",
    "        return True\n",
    "\n",
    "passwords = input(\"Enter passwords seperated by comma \")\n",
    "password_list = passwords.split(\",\")\n",
    "for password in password_list:\n",
    "    if isValidPassword(password):\n",
    "        print(password)"
   ]
  },
  {
   "cell_type": "code",
   "execution_count": null,
   "id": "154a4d30",
   "metadata": {},
   "outputs": [],
   "source": []
  }
 ],
 "metadata": {
  "kernelspec": {
   "display_name": "Python 3",
   "language": "python",
   "name": "python3"
  },
  "language_info": {
   "codemirror_mode": {
    "name": "ipython",
    "version": 3
   },
   "file_extension": ".py",
   "mimetype": "text/x-python",
   "name": "python",
   "nbconvert_exporter": "python",
   "pygments_lexer": "ipython3",
   "version": "3.8.8"
  }
 },
 "nbformat": 4,
 "nbformat_minor": 5
}
