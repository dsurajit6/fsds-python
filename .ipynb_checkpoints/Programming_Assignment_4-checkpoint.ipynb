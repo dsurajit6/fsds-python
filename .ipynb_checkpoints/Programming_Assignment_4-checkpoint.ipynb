{
 "cells": [
  {
   "cell_type": "markdown",
   "id": "158b7541",
   "metadata": {},
   "source": [
    "### 1. Write a Python Program to Find the Factorial of a Number?"
   ]
  },
  {
   "cell_type": "code",
   "execution_count": 3,
   "id": "06ddd07a",
   "metadata": {},
   "outputs": [
    {
     "name": "stdout",
     "output_type": "stream",
     "text": [
      "Enter a number: 5\n",
      "5! = 120\n"
     ]
    }
   ],
   "source": [
    "num = int(input(\"Enter a number: \"))\n",
    "fact = 1\n",
    "for i in range(1,num+1):\n",
    "    fact *= i\n",
    "print(f\"{num}! = {fact}\")"
   ]
  },
  {
   "cell_type": "markdown",
   "id": "c77f4378",
   "metadata": {},
   "source": [
    "### 2. Write a Python Program to Display the multiplication Table?"
   ]
  },
  {
   "cell_type": "code",
   "execution_count": 4,
   "id": "adee8870",
   "metadata": {},
   "outputs": [
    {
     "name": "stdout",
     "output_type": "stream",
     "text": [
      "Enter a number: 5\n",
      "Multiplication table upto: 10\n",
      "5 x 1 = 5\n",
      "5 x 2 = 10\n",
      "5 x 3 = 15\n",
      "5 x 4 = 20\n",
      "5 x 5 = 25\n",
      "5 x 6 = 30\n",
      "5 x 7 = 35\n",
      "5 x 8 = 40\n",
      "5 x 9 = 45\n",
      "5 x 10 = 50\n"
     ]
    }
   ],
   "source": [
    "num = int(input(\"Enter a number: \"))\n",
    "rng = int(input(\"Multiplication table upto: \"))\n",
    "for i in range(1,rng+1):\n",
    "    print(f\"{num} x {i} = {num*i}\")"
   ]
  },
  {
   "cell_type": "markdown",
   "id": "74e4b51a",
   "metadata": {},
   "source": [
    "### 3. Write a Python Program to Print the Fibonacci sequence?"
   ]
  },
  {
   "cell_type": "code",
   "execution_count": 10,
   "id": "0b06f8dc",
   "metadata": {},
   "outputs": [
    {
     "name": "stdout",
     "output_type": "stream",
     "text": [
      "How many fibonacci number you want to display ?10\n",
      "0 1 1 2 3 5 8 13 21 34 "
     ]
    }
   ],
   "source": [
    "count = int(input(\"How many fibonacci number you want to display ?\"))\n",
    "c=2\n",
    "i,j=0,1\n",
    "if count >= 1:\n",
    "    print(i, end=\" \")\n",
    "if count >= 2:\n",
    "    print(j, end=\" \")\n",
    "while c<count:\n",
    "    k=i+j\n",
    "    print(k, end=\" \")\n",
    "    i,j = j,k\n",
    "    c += 1"
   ]
  },
  {
   "cell_type": "markdown",
   "id": "a8c44025",
   "metadata": {},
   "source": [
    "### 4. Write a Python Program to Check Armstrong Number?"
   ]
  },
  {
   "cell_type": "code",
   "execution_count": 14,
   "id": "8c2e59e1",
   "metadata": {},
   "outputs": [
    {
     "name": "stdout",
     "output_type": "stream",
     "text": [
      "Enter a number: 153\n",
      "153 is a armstrong number\n"
     ]
    }
   ],
   "source": [
    "num = int(input(\"Enter a number: \"))\n",
    "temp = num\n",
    "new_num = 0\n",
    "while num > 0:\n",
    "    r = num%10\n",
    "    new_num += r*r*r\n",
    "    num = num//10\n",
    "if new_num == temp:\n",
    "    print(f\"{temp} is a armstrong number\")\n",
    "else:\n",
    "    print(f\"{temp} is not a armstrong number\")"
   ]
  },
  {
   "cell_type": "markdown",
   "id": "4a491f5d",
   "metadata": {},
   "source": [
    "### 5. Write a Python Program to Find Armstrong Number in an Interval?"
   ]
  },
  {
   "cell_type": "code",
   "execution_count": 16,
   "id": "4e99c7fd",
   "metadata": {},
   "outputs": [
    {
     "name": "stdout",
     "output_type": "stream",
     "text": [
      "Enter the starting value of the interval: 1\n",
      "Enter the ending value of the interval: 1000\n",
      "Armstrong numbers between 1 and 1000 are:\n",
      "1 153 370 371 407 "
     ]
    }
   ],
   "source": [
    "start_value = int(input(\"Enter the starting value of the interval: \"))\n",
    "end_value = int(input(\"Enter the ending value of the interval: \"))\n",
    "print(f\"Armstrong numbers between {start_value} and {end_value} are:\")\n",
    "for num in range(start_value, end_value+1):\n",
    "    temp = num\n",
    "    new_num = 0\n",
    "    while num > 0:\n",
    "        r = num%10\n",
    "        new_num += r*r*r\n",
    "        num = num//10\n",
    "    if new_num == temp:\n",
    "        print(temp, end=\" \")"
   ]
  },
  {
   "cell_type": "markdown",
   "id": "68de99c4",
   "metadata": {},
   "source": [
    "### 6. Write a Python Program to Find the Sum of Natural Numbers?"
   ]
  },
  {
   "cell_type": "code",
   "execution_count": 18,
   "id": "98c924c3",
   "metadata": {},
   "outputs": [
    {
     "name": "stdout",
     "output_type": "stream",
     "text": [
      "1+2+3+...+N\n",
      "Enter the Nth value: 5\n",
      "sum of 5 natural numbers are 15.0\n"
     ]
    }
   ],
   "source": [
    "print(\"1+2+3+...+N\")\n",
    "n = int(input(\"Enter the Nth value: \"))\n",
    "sum_of_n = n*(n+1)/2\n",
    "print(f\"sum of {n} natural numbers are {sum_of_n}\")"
   ]
  },
  {
   "cell_type": "code",
   "execution_count": 19,
   "id": "3fb049c1",
   "metadata": {},
   "outputs": [
    {
     "name": "stdout",
     "output_type": "stream",
     "text": [
      "1+2+3+...+N\n",
      "Enter the Nth value: 5\n",
      "sum of 5 natural numbers are 15\n"
     ]
    }
   ],
   "source": [
    "print(\"1+2+3+...+N\")\n",
    "n = int(input(\"Enter the Nth value: \"))\n",
    "sum_of_n = 0\n",
    "for i in range(1,n+1):\n",
    "    sum_of_n += i\n",
    "print(f\"sum of {n} natural numbers are {sum_of_n}\")"
   ]
  },
  {
   "cell_type": "code",
   "execution_count": null,
   "id": "b37ffd15",
   "metadata": {},
   "outputs": [],
   "source": []
  }
 ],
 "metadata": {
  "kernelspec": {
   "display_name": "Python 3",
   "language": "python",
   "name": "python3"
  },
  "language_info": {
   "codemirror_mode": {
    "name": "ipython",
    "version": 3
   },
   "file_extension": ".py",
   "mimetype": "text/x-python",
   "name": "python",
   "nbconvert_exporter": "python",
   "pygments_lexer": "ipython3",
   "version": "3.8.8"
  }
 },
 "nbformat": 4,
 "nbformat_minor": 5
}
