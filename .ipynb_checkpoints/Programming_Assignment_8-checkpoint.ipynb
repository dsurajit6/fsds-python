{
 "cells": [
  {
   "cell_type": "markdown",
   "id": "92fecc07",
   "metadata": {},
   "source": [
    "### 1. Write a Python Program to Add Two Matrices?"
   ]
  },
  {
   "cell_type": "code",
   "execution_count": 3,
   "id": "ed35d5f3",
   "metadata": {},
   "outputs": [
    {
     "name": "stdout",
     "output_type": "stream",
     "text": [
      "Enter the row size of the 1st matrix 2\n",
      "Enter the column size of the 1st matrix 2\n",
      "Enter the row size of the 2nd matrix 2\n",
      "Enter the column size of the 2nd matrix 2\n",
      "Enter the 1st array: \n",
      "enter [0,0] element 1\n",
      "enter [0,1] element 1\n",
      "enter [1,0] element 1\n",
      "enter [1,1] element 1\n",
      "Enter the 2nd array: \n",
      "enter [0,0] element 1\n",
      "enter [0,1] element 1\n",
      "enter [1,0] element 1\n",
      "enter [1,1] element 1\n",
      "Sum of two array is: \n",
      "2\t2\t\n",
      "2\t2\t\n"
     ]
    }
   ],
   "source": [
    "import sys\n",
    "r1 = int(input(\"Enter the row size of the 1st matrix \"))\n",
    "c1 = int(input(\"Enter the column size of the 1st matrix \"))\n",
    "r2 = int(input(\"Enter the row size of the 2nd matrix \"))\n",
    "c2 = int(input(\"Enter the column size of the 2nd matrix \"))\n",
    "if r1!=r2 and c1!=c2:\n",
    "    print(\"Addition is not possible\")\n",
    "    sys.exit()\n",
    "\n",
    "print(\"Enter the 1st array: \")\n",
    "a=[]\n",
    "for i in range(r1):\n",
    "    temp=[]\n",
    "    for j in range(c1):\n",
    "        e = int(input(f\"enter [{i},{j}] element \"))\n",
    "        temp.append(e)\n",
    "    a.append(temp)\n",
    "\n",
    "print(\"Enter the 2nd array: \")\n",
    "b=[]\n",
    "for i in range(r2):\n",
    "    temp=[]\n",
    "    for j in range(c2):\n",
    "        e = int(input(f\"enter [{i},{j}] element \"))\n",
    "        temp.append(e)\n",
    "    b.append(temp)\n",
    "\n",
    "c=[]\n",
    "for i in range(r1):\n",
    "    temp=[]\n",
    "    for j in range(c1):\n",
    "        e = a[i][j] + b[i][j]\n",
    "        temp.append(e)\n",
    "    c.append(temp)\n",
    "\n",
    "print(\"Sum of two matrix is: \")\n",
    "for i in range(r1):\n",
    "    for j in range(c1):\n",
    "        print(c[i][j], end=\"\\t\")\n",
    "    print()"
   ]
  },
  {
   "cell_type": "markdown",
   "id": "94bd1042",
   "metadata": {},
   "source": [
    "### 2. Write a Python Program to Multiply Two Matrices?"
   ]
  },
  {
   "cell_type": "code",
   "execution_count": 20,
   "id": "3b771dd5",
   "metadata": {
    "scrolled": true
   },
   "outputs": [
    {
     "name": "stdout",
     "output_type": "stream",
     "text": [
      "Enter the row size of the 1st matrix 2\n",
      "Enter the column size of the 1st matrix 2\n",
      "Enter the row size of the 2nd matrix 2\n",
      "Enter the column size of the 2nd matrix 2\n",
      "Enter the 1st array: \n",
      "enter [0,0] element 1\n",
      "enter [0,1] element 2\n",
      "enter [1,0] element 3\n",
      "enter [1,1] element 4\n",
      "Enter the 2nd array: \n",
      "enter [0,0] element 2\n",
      "enter [0,1] element 2\n",
      "enter [1,0] element 2\n",
      "enter [1,1] element 2\n",
      "Product of two array is: \n",
      "6\t6\t\n",
      "14\t14\t\n"
     ]
    }
   ],
   "source": [
    "import sys\n",
    "r1 = int(input(\"Enter the row size of the 1st matrix \"))\n",
    "c1 = int(input(\"Enter the column size of the 1st matrix \"))\n",
    "r2 = int(input(\"Enter the row size of the 2nd matrix \"))\n",
    "c2 = int(input(\"Enter the column size of the 2nd matrix \"))\n",
    "if c1 != r2:\n",
    "    print(\"Multiplication is not possible\")\n",
    "    sys.exit()\n",
    "\n",
    "print(\"Enter the 1st array: \")\n",
    "a=[]\n",
    "for i in range(r1):\n",
    "    temp=[]\n",
    "    for j in range(c1):\n",
    "        e = int(input(f\"enter [{i},{j}] element \"))\n",
    "        temp.append(e)\n",
    "    a.append(temp)\n",
    "\n",
    "print(\"Enter the 2nd array: \")\n",
    "b=[]\n",
    "for i in range(r2):\n",
    "    temp=[]\n",
    "    for j in range(c2):\n",
    "        e = int(input(f\"enter [{i},{j}] element \"))\n",
    "        temp.append(e)\n",
    "    b.append(temp)\n",
    "\n",
    "c=[]\n",
    "    \n",
    "for i in range(r1):\n",
    "    temp=[]\n",
    "    for j in range(c2):\n",
    "        e = 0\n",
    "        for k in range(c1):\n",
    "            e += a[i][k] * b[k][j]\n",
    "        temp.append(e)\n",
    "    c.append(temp)\n",
    "\n",
    "print(\"Product of two matrix is: \")\n",
    "for i in range(r1):\n",
    "    for j in range(c2):\n",
    "        print(c[i][j], end=\"\\t\")\n",
    "    print()"
   ]
  },
  {
   "cell_type": "markdown",
   "id": "6d47c12b",
   "metadata": {},
   "source": [
    "### 3. Write a Python Program to Transpose a Matrix?"
   ]
  },
  {
   "cell_type": "code",
   "execution_count": 25,
   "id": "ac021566",
   "metadata": {},
   "outputs": [
    {
     "name": "stdout",
     "output_type": "stream",
     "text": [
      "Enter the row size of the matrix 3\n",
      "Enter the column size of the matrix 2\n",
      "Enter the array: \n",
      "enter [0,0] element 1\n",
      "enter [0,1] element 2\n",
      "enter [1,0] element 3\n",
      "enter [1,1] element 4\n",
      "enter [2,0] element 5\n",
      "enter [2,1] element 6\n",
      "Transpose of the matrix is: \n",
      "1\t3\t5\t\n",
      "2\t4\t6\t\n"
     ]
    }
   ],
   "source": [
    "import sys\n",
    "r = int(input(\"Enter the row size of the matrix \"))\n",
    "c = int(input(\"Enter the column size of the matrix \"))\n",
    "\n",
    "print(\"Enter the array: \")\n",
    "a=[]\n",
    "for i in range(r):\n",
    "    temp=[]\n",
    "    for j in range(c):\n",
    "        e = int(input(f\"enter [{i},{j}] element \"))\n",
    "        temp.append(e)\n",
    "    a.append(temp)\n",
    "\n",
    "t=[]\n",
    "for i in range(c):\n",
    "    temp=[]\n",
    "    for j in range(r):\n",
    "        e = a[j][i]\n",
    "        temp.append(e)\n",
    "    t.append(temp)\n",
    "\n",
    "print(\"Transpose of the matrix is: \")\n",
    "for i in range(c):\n",
    "    for j in range(r):\n",
    "        print(t[i][j], end=\"\\t\")\n",
    "    print()"
   ]
  },
  {
   "cell_type": "markdown",
   "id": "786786f4",
   "metadata": {},
   "source": [
    "#### 4. Write a Python Program to Sort Words in Alphabetic Order? "
   ]
  },
  {
   "cell_type": "code",
   "execution_count": 27,
   "id": "1437aecb",
   "metadata": {},
   "outputs": [
    {
     "name": "stdout",
     "output_type": "stream",
     "text": [
      "['code', 'i', 'in', 'love', 'python', 'to', 'write']\n"
     ]
    }
   ],
   "source": [
    "words = ['i', 'love', 'to', 'write', 'code', 'in', 'python']\n",
    "words.sort()\n",
    "print(words)"
   ]
  },
  {
   "cell_type": "markdown",
   "id": "1981012f",
   "metadata": {},
   "source": [
    "### 5. Write a Python Program to Remove Punctuation From a String?"
   ]
  },
  {
   "cell_type": "code",
   "execution_count": 28,
   "id": "e2ef01e4",
   "metadata": {},
   "outputs": [
    {
     "name": "stdout",
     "output_type": "stream",
     "text": [
      "Hello world This code is written in python38 \n"
     ]
    }
   ],
   "source": [
    "punctuations = '''!()-[]{};:'\"\\,<>./?@#$%^&*_~'''\n",
    "\n",
    "my_str = \"Hello, world!!!, This code is written in python(3.8) !!!\"\n",
    "new_str = \"\"\n",
    "for c in my_str:\n",
    "    if c not in punctuations:\n",
    "        new_str += c\n",
    "print(new_str)"
   ]
  },
  {
   "cell_type": "code",
   "execution_count": null,
   "id": "beb88c95",
   "metadata": {},
   "outputs": [],
   "source": []
  }
 ],
 "metadata": {
  "kernelspec": {
   "display_name": "Python 3",
   "language": "python",
   "name": "python3"
  },
  "language_info": {
   "codemirror_mode": {
    "name": "ipython",
    "version": 3
   },
   "file_extension": ".py",
   "mimetype": "text/x-python",
   "name": "python",
   "nbconvert_exporter": "python",
   "pygments_lexer": "ipython3",
   "version": "3.8.8"
  }
 },
 "nbformat": 4,
 "nbformat_minor": 5
}
