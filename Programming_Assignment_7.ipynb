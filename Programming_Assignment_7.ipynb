{
 "cells": [
  {
   "cell_type": "markdown",
   "id": "5a650f23",
   "metadata": {},
   "source": [
    "### 1. Write a Python Program to find sum of array?"
   ]
  },
  {
   "cell_type": "code",
   "execution_count": 1,
   "id": "d0f5eecd",
   "metadata": {},
   "outputs": [
    {
     "name": "stdout",
     "output_type": "stream",
     "text": [
      "Sum = 45\n"
     ]
    }
   ],
   "source": [
    "array = [1, 2, 3, 4, 5, 6, 7, 8, 9]\n",
    "s = 0\n",
    "for n in array:\n",
    "    s += n\n",
    "print(f\"Sum = {s}\")"
   ]
  },
  {
   "cell_type": "markdown",
   "id": "d29dffcf",
   "metadata": {},
   "source": [
    "### 2. Write a Python Program to find largest element in an array?"
   ]
  },
  {
   "cell_type": "code",
   "execution_count": 2,
   "id": "b050a60c",
   "metadata": {},
   "outputs": [
    {
     "name": "stdout",
     "output_type": "stream",
     "text": [
      "9 is the largest number in the array\n"
     ]
    }
   ],
   "source": [
    "array = [1, 2, 3, 4, 5, 6, 7, 8, 9]\n",
    "l = array[0]\n",
    "for n in array:\n",
    "    if n > l:\n",
    "        l=n\n",
    "print(f\"{l} is the largest number in the array\")"
   ]
  },
  {
   "cell_type": "markdown",
   "id": "24f7dc05",
   "metadata": {},
   "source": [
    "### 3. Write a Python Program for array rotation?"
   ]
  },
  {
   "cell_type": "code",
   "execution_count": 4,
   "id": "f3704fb5",
   "metadata": {},
   "outputs": [
    {
     "name": "stdout",
     "output_type": "stream",
     "text": [
      "Rotation direction (left/right): right\n",
      "Rotate by how many element: 2\n",
      "After operation: [8, 9, 1, 2, 3, 4, 5, 6, 7]\n"
     ]
    }
   ],
   "source": [
    "array = [1, 2, 3, 4, 5, 6, 7, 8, 9]\n",
    "rotation = input(\"Rotation direction (left/right): \")\n",
    "rotat_by = int(input(\"Rotate by how many element: \"))\n",
    "if rotation == \"left\":\n",
    "    array = array[rotat_by:] + array[0:rotat_by]\n",
    "elif rotation == \"right\":\n",
    "    array = array[-rotat_by:] + array[0:-rotat_by]\n",
    "else:\n",
    "    print(\"Invalid Rotation\")\n",
    "print(f\"After operation: {array}\")"
   ]
  },
  {
   "cell_type": "markdown",
   "id": "2ddff459",
   "metadata": {},
   "source": [
    "### 4. Write a Python Program to Split the array and add the first part to the end?"
   ]
  },
  {
   "cell_type": "code",
   "execution_count": 5,
   "id": "ef643b34",
   "metadata": {},
   "outputs": [
    {
     "name": "stdout",
     "output_type": "stream",
     "text": [
      "After split [5, 6, 7, 8, 9, 1, 2, 3, 4]\n"
     ]
    }
   ],
   "source": [
    "array = [1, 2, 3, 4, 5, 6, 7, 8, 9]\n",
    "split_point = len(array)//2\n",
    "array = array[split_point:] + array[0:split_point]\n",
    "print(f\"After split {array}\")"
   ]
  },
  {
   "cell_type": "markdown",
   "id": "c910da76",
   "metadata": {},
   "source": [
    "### 5. Write a Python Program to check if given array is Monotonic?"
   ]
  },
  {
   "cell_type": "code",
   "execution_count": 8,
   "id": "b594e8fb",
   "metadata": {},
   "outputs": [
    {
     "name": "stdout",
     "output_type": "stream",
     "text": [
      "Given array is monotonic\n"
     ]
    }
   ],
   "source": [
    "array = [-7, -6, -5, -4, -3]\n",
    "monotonic = True\n",
    "for i in range(1,len(array)):\n",
    "    if abs(array[i-1] - array[i]) > 1:\n",
    "        monotonic = False\n",
    "if(monotonic):\n",
    "    print(\"Given array is monotonic\")\n",
    "else:\n",
    "    print(\"Given array is not monotonic\")"
   ]
  },
  {
   "cell_type": "code",
   "execution_count": null,
   "id": "39f55bc3",
   "metadata": {},
   "outputs": [],
   "source": []
  }
 ],
 "metadata": {
  "kernelspec": {
   "display_name": "Python 3",
   "language": "python",
   "name": "python3"
  },
  "language_info": {
   "codemirror_mode": {
    "name": "ipython",
    "version": 3
   },
   "file_extension": ".py",
   "mimetype": "text/x-python",
   "name": "python",
   "nbconvert_exporter": "python",
   "pygments_lexer": "ipython3",
   "version": "3.8.8"
  }
 },
 "nbformat": 4,
 "nbformat_minor": 5
}
