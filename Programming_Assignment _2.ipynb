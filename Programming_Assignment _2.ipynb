{
 "cells": [
  {
   "cell_type": "markdown",
   "id": "aa3bc8f5",
   "metadata": {},
   "source": [
    "### Write a Python program to convert kilometers to miles?"
   ]
  },
  {
   "cell_type": "code",
   "execution_count": 2,
   "id": "f21af693",
   "metadata": {},
   "outputs": [
    {
     "name": "stdout",
     "output_type": "stream",
     "text": [
      "Enter the value in KM2\n",
      "2.0 KM = 1.242742 Miles\n"
     ]
    }
   ],
   "source": [
    "unit = 0.621371\n",
    "km = float(input(\"Enter the value in KM\"))\n",
    "print(f'{km} KM = {km*unit} Miles')"
   ]
  },
  {
   "cell_type": "markdown",
   "id": "fe050b55",
   "metadata": {},
   "source": [
    "### Write a Python program to convert Celsius to Fahrenheit?"
   ]
  },
  {
   "cell_type": "code",
   "execution_count": 8,
   "id": "43f92f5c",
   "metadata": {},
   "outputs": [
    {
     "name": "stdout",
     "output_type": "stream",
     "text": [
      "Enter temperature in celcious35\n",
      "35.0 C = 95.0 F\n"
     ]
    }
   ],
   "source": [
    "c = float(input(\"Enter temperature in celcious\"))\n",
    "f = c*(9/5) + 32\n",
    "print(f\"{c} C = {f} F\")"
   ]
  },
  {
   "cell_type": "markdown",
   "id": "9abd3ec5",
   "metadata": {},
   "source": [
    "### Write a Python program to display calendar?\n"
   ]
  },
  {
   "cell_type": "code",
   "execution_count": 11,
   "id": "efd20d7b",
   "metadata": {},
   "outputs": [
    {
     "name": "stdout",
     "output_type": "stream",
     "text": [
      "Enter the year:2022\n",
      "                                  2022\n",
      "\n",
      "      January                   February                   March\n",
      "Mo Tu We Th Fr Sa Su      Mo Tu We Th Fr Sa Su      Mo Tu We Th Fr Sa Su\n",
      "                1  2          1  2  3  4  5  6          1  2  3  4  5  6\n",
      " 3  4  5  6  7  8  9       7  8  9 10 11 12 13       7  8  9 10 11 12 13\n",
      "10 11 12 13 14 15 16      14 15 16 17 18 19 20      14 15 16 17 18 19 20\n",
      "17 18 19 20 21 22 23      21 22 23 24 25 26 27      21 22 23 24 25 26 27\n",
      "24 25 26 27 28 29 30      28                        28 29 30 31\n",
      "31\n",
      "\n",
      "       April                      May                       June\n",
      "Mo Tu We Th Fr Sa Su      Mo Tu We Th Fr Sa Su      Mo Tu We Th Fr Sa Su\n",
      "             1  2  3                         1             1  2  3  4  5\n",
      " 4  5  6  7  8  9 10       2  3  4  5  6  7  8       6  7  8  9 10 11 12\n",
      "11 12 13 14 15 16 17       9 10 11 12 13 14 15      13 14 15 16 17 18 19\n",
      "18 19 20 21 22 23 24      16 17 18 19 20 21 22      20 21 22 23 24 25 26\n",
      "25 26 27 28 29 30         23 24 25 26 27 28 29      27 28 29 30\n",
      "                          30 31\n",
      "\n",
      "        July                     August                  September\n",
      "Mo Tu We Th Fr Sa Su      Mo Tu We Th Fr Sa Su      Mo Tu We Th Fr Sa Su\n",
      "             1  2  3       1  2  3  4  5  6  7                1  2  3  4\n",
      " 4  5  6  7  8  9 10       8  9 10 11 12 13 14       5  6  7  8  9 10 11\n",
      "11 12 13 14 15 16 17      15 16 17 18 19 20 21      12 13 14 15 16 17 18\n",
      "18 19 20 21 22 23 24      22 23 24 25 26 27 28      19 20 21 22 23 24 25\n",
      "25 26 27 28 29 30 31      29 30 31                  26 27 28 29 30\n",
      "\n",
      "      October                   November                  December\n",
      "Mo Tu We Th Fr Sa Su      Mo Tu We Th Fr Sa Su      Mo Tu We Th Fr Sa Su\n",
      "                1  2          1  2  3  4  5  6                1  2  3  4\n",
      " 3  4  5  6  7  8  9       7  8  9 10 11 12 13       5  6  7  8  9 10 11\n",
      "10 11 12 13 14 15 16      14 15 16 17 18 19 20      12 13 14 15 16 17 18\n",
      "17 18 19 20 21 22 23      21 22 23 24 25 26 27      19 20 21 22 23 24 25\n",
      "24 25 26 27 28 29 30      28 29 30                  26 27 28 29 30 31\n",
      "31\n",
      "\n"
     ]
    }
   ],
   "source": [
    "from calendar import calendar\n",
    "year = int(input(\"Enter the year:\"))\n",
    "print(calendar(year))"
   ]
  },
  {
   "cell_type": "markdown",
   "id": "ae174e3d",
   "metadata": {},
   "source": [
    "### Write a Python program to solve quadratic equation?"
   ]
  },
  {
   "cell_type": "code",
   "execution_count": 4,
   "id": "1d33f1bf",
   "metadata": {},
   "outputs": [
    {
     "name": "stdout",
     "output_type": "stream",
     "text": [
      "Ax^2 + Bx + C = 0\n",
      "Enter the value of A: 1\n",
      "Enter the value of B: 4\n",
      "Enter the value of C: 4\n",
      "Solutions are (-2+0j) and (-2+0j)\n"
     ]
    }
   ],
   "source": [
    "import cmath\n",
    "\n",
    "print(\"Ax^2 + Bx + C = 0\")\n",
    "a = float(input(\"Enter the value of A: \"))\n",
    "b = float(input(\"Enter the value of B: \"))\n",
    "c = float(input(\"Enter the value of C: \"))\n",
    "\n",
    "d = (b**2) - (4*a*c)\n",
    "sol1 = (-b - cmath.sqrt(d))/(2*a)\n",
    "sol2 = (-b + cmath.sqrt(d))/(2*a)\n",
    "print(f\"Solutions are {sol1} and {sol2}\")"
   ]
  },
  {
   "cell_type": "markdown",
   "id": "027dea40",
   "metadata": {},
   "source": [
    "### Write a Python program to swap two variables without temp variable?"
   ]
  },
  {
   "cell_type": "code",
   "execution_count": 6,
   "id": "60cabb5b",
   "metadata": {},
   "outputs": [
    {
     "name": "stdout",
     "output_type": "stream",
     "text": [
      "Enter the value of A 2\n",
      "Enter the value of B 3\n",
      "Before swaping A=2 B=3\n",
      "After swaping A=3 B=2\n"
     ]
    }
   ],
   "source": [
    "a = int(input(\"Enter the value of A \"))\n",
    "b = int(input(\"Enter the value of B \"))\n",
    "print(f\"Before swaping A={a} B={b}\")\n",
    "a,b = b,a\n",
    "print(f\"After swaping A={a} B={b}\")"
   ]
  },
  {
   "cell_type": "code",
   "execution_count": 9,
   "id": "6d5c9ff8",
   "metadata": {},
   "outputs": [
    {
     "name": "stdout",
     "output_type": "stream",
     "text": [
      "Enter the value of A 3\n",
      "Enter the value of B 4\n",
      "Before swaping A=3 B=4\n",
      "After swaping A=4 B=3\n"
     ]
    }
   ],
   "source": [
    "a = int(input(\"Enter the value of A \"))\n",
    "b = int(input(\"Enter the value of B \"))\n",
    "print(f\"Before swaping A={a} B={b}\")\n",
    "a = a+b\n",
    "b = a-b\n",
    "a = a-b\n",
    "print(f\"After swaping A={a} B={b}\")"
   ]
  },
  {
   "cell_type": "code",
   "execution_count": null,
   "id": "35f9211f",
   "metadata": {},
   "outputs": [],
   "source": []
  }
 ],
 "metadata": {
  "kernelspec": {
   "display_name": "Python 3",
   "language": "python",
   "name": "python3"
  },
  "language_info": {
   "codemirror_mode": {
    "name": "ipython",
    "version": 3
   },
   "file_extension": ".py",
   "mimetype": "text/x-python",
   "name": "python",
   "nbconvert_exporter": "python",
   "pygments_lexer": "ipython3",
   "version": "3.8.8"
  }
 },
 "nbformat": 4,
 "nbformat_minor": 5
}
