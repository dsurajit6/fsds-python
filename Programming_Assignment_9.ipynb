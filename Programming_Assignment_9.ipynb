{
 "cells": [
  {
   "cell_type": "markdown",
   "id": "f90a27c1",
   "metadata": {},
   "source": [
    "1. Write a Python program to check if the given number is a Disarium Number?"
   ]
  },
  {
   "cell_type": "code",
   "execution_count": 11,
   "id": "f05fe302",
   "metadata": {},
   "outputs": [
    {
     "name": "stdout",
     "output_type": "stream",
     "text": [
      "Enter a number: 89\n",
      "Disarium Number\n"
     ]
    }
   ],
   "source": [
    "def isDisarium(num):\n",
    "    length = len(str(num))\n",
    "    temp = num\n",
    "    s = 0\n",
    "    while num > 0:\n",
    "        r = num % 10\n",
    "        s+=pow(r,length)\n",
    "        length -= 1\n",
    "        num = num//10\n",
    "    if(temp==int(s)):\n",
    "        return True\n",
    "    else:\n",
    "        return False\n",
    "num = int(input(\"Enter a number: \"))\n",
    "if(isDisarium(num)):\n",
    "    print(\"Disarium Number\")\n",
    "else:\n",
    "    print(\"Not a Disarium Number\")"
   ]
  },
  {
   "cell_type": "markdown",
   "id": "e85e2094",
   "metadata": {},
   "source": [
    "2. Write a Python program to print all disarium numbers between 1 to 100?"
   ]
  },
  {
   "cell_type": "code",
   "execution_count": 12,
   "id": "f53dacfa",
   "metadata": {},
   "outputs": [
    {
     "name": "stdout",
     "output_type": "stream",
     "text": [
      "1 2 3 4 5 6 7 8 9 89 "
     ]
    }
   ],
   "source": [
    "for n in range(1,101):\n",
    "    if(isDisarium(n)):\n",
    "        print(n, end=\" \")"
   ]
  },
  {
   "cell_type": "markdown",
   "id": "d373009f",
   "metadata": {},
   "source": [
    "3. Write a Python program to check if the given number is Happy Number?"
   ]
  },
  {
   "cell_type": "code",
   "execution_count": 13,
   "id": "2db89f00",
   "metadata": {},
   "outputs": [
    {
     "name": "stdout",
     "output_type": "stream",
     "text": [
      "Enter a number: 13\n",
      "13 Happy Number\n"
     ]
    }
   ],
   "source": [
    "def squaredsum(num):\n",
    "    sum = 0\n",
    "    while(num):\n",
    "        sum += (num%10) ** 2\n",
    "        num = num//10\n",
    "    return sum\n",
    "\n",
    "def happynumber(num):\n",
    "    num_one = num\n",
    "    num_two = num\n",
    "    while(True):\n",
    "        num_one = squaredsum(num_one)\n",
    "        num_two = squaredsum(squaredsum(num_two))\n",
    "        if (num_one!=num_two):\n",
    "            continue\n",
    "        else:\n",
    "            break\n",
    "    return (num_one==1)\n",
    "\n",
    "num = int(input(\"Enter a number: \"))\n",
    "if happynumber(num):\n",
    "    print(num, \"Happy Number\")\n",
    "else:\n",
    "    print(\"Not a happy number\")"
   ]
  },
  {
   "cell_type": "markdown",
   "id": "9fea0a64",
   "metadata": {},
   "source": [
    "4. Write a Python program to print all happy numbers between 1 and 100?"
   ]
  },
  {
   "cell_type": "code",
   "execution_count": 14,
   "id": "9b0ab876",
   "metadata": {},
   "outputs": [
    {
     "name": "stdout",
     "output_type": "stream",
     "text": [
      "1 7 10 13 19 23 28 31 32 44 49 68 70 79 82 86 91 94 97 100 "
     ]
    }
   ],
   "source": [
    "for i in range(1,101):\n",
    "    if happynumber(i):\n",
    "        print(i, end =\" \")\n"
   ]
  },
  {
   "cell_type": "markdown",
   "id": "cf46680e",
   "metadata": {},
   "source": [
    "5. Write a Python program to determine whether the given number is a Harshad Number?"
   ]
  },
  {
   "cell_type": "code",
   "execution_count": 15,
   "id": "9d96f104",
   "metadata": {},
   "outputs": [
    {
     "name": "stdout",
     "output_type": "stream",
     "text": [
      "Enter a number: 156\n",
      "156 Harshad Number\n"
     ]
    }
   ],
   "source": [
    "def sumOfDigit(num):\n",
    "    s = 0\n",
    "    while num > 0:\n",
    "        r = num%10\n",
    "        s += r\n",
    "        num =num //10\n",
    "    return s\n",
    "\n",
    "def isHarshad(num):\n",
    "    return num % sumOfDigit(num) == 0\n",
    "\n",
    "num = int(input(\"Enter a number: \"))\n",
    "if isHarshad(num):\n",
    "    print(num, \"Harshad Number\")\n",
    "else:\n",
    "    print(\"Not a Harshad number\")"
   ]
  },
  {
   "cell_type": "markdown",
   "id": "f498e0f3",
   "metadata": {},
   "source": [
    "6. Write a Python program to print all pronic numbers between 1 and 100?"
   ]
  },
  {
   "cell_type": "code",
   "execution_count": 16,
   "id": "2b27e6e1",
   "metadata": {},
   "outputs": [
    {
     "name": "stdout",
     "output_type": "stream",
     "text": [
      "2 6 12 20 30 42 56 72 90 "
     ]
    }
   ],
   "source": [
    "def isPronic(num):\n",
    "    for n in range(1, num+1):\n",
    "        if n*(n+1) == num:\n",
    "            return True\n",
    "    return False\n",
    "\n",
    "for i in range(1, 101):\n",
    "    if isPronic(i):\n",
    "        print(i, end=\" \")"
   ]
  },
  {
   "cell_type": "code",
   "execution_count": null,
   "id": "22dc2260",
   "metadata": {},
   "outputs": [],
   "source": []
  }
 ],
 "metadata": {
  "kernelspec": {
   "display_name": "Python 3",
   "language": "python",
   "name": "python3"
  },
  "language_info": {
   "codemirror_mode": {
    "name": "ipython",
    "version": 3
   },
   "file_extension": ".py",
   "mimetype": "text/x-python",
   "name": "python",
   "nbconvert_exporter": "python",
   "pygments_lexer": "ipython3",
   "version": "3.8.8"
  }
 },
 "nbformat": 4,
 "nbformat_minor": 5
}
