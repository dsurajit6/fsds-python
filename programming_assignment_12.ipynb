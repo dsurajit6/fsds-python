{
 "cells": [
  {
   "cell_type": "markdown",
   "id": "5f36a96f-867a-4d2f-8467-814f6fc67b9e",
   "metadata": {},
   "source": [
    "1. Write a Python program to Extract Unique values dictionary values?"
   ]
  },
  {
   "cell_type": "code",
   "execution_count": 1,
   "id": "9d5cdb75-5548-4dfe-bca4-3e82ab80a157",
   "metadata": {},
   "outputs": [
    {
     "data": {
      "text/plain": [
       "{1, 2, 3, 4}"
      ]
     },
     "execution_count": 1,
     "metadata": {},
     "output_type": "execute_result"
    }
   ],
   "source": [
    "d = {'a': 1, 'b': 2, 'c': 1, 'd': 3, 'e': 4, 'f': 2 }\n",
    "set(d.values())"
   ]
  },
  {
   "cell_type": "markdown",
   "id": "9e3f3072-37dd-4ad0-8caa-c2309b87ad61",
   "metadata": {},
   "source": [
    "2. Write a Python program to find the sum of all items in a dictionary?"
   ]
  },
  {
   "cell_type": "code",
   "execution_count": 4,
   "id": "1e37b8af-dd9d-4c7e-ab19-127941488f49",
   "metadata": {},
   "outputs": [
    {
     "data": {
      "text/plain": [
       "13"
      ]
     },
     "execution_count": 4,
     "metadata": {},
     "output_type": "execute_result"
    }
   ],
   "source": [
    "sum(d.values())"
   ]
  },
  {
   "cell_type": "markdown",
   "id": "0bd56a58-67d7-4bb4-bc29-5ae8fcd0057a",
   "metadata": {},
   "source": [
    "3. Write a Python program to Merging two Dictionaries?"
   ]
  },
  {
   "cell_type": "code",
   "execution_count": 6,
   "id": "0a5cad57-4242-48d3-9a77-43f6e409dbf2",
   "metadata": {},
   "outputs": [
    {
     "name": "stdout",
     "output_type": "stream",
     "text": [
      "{'a': 1, 'b': 2, 'c': 1, 'd': 3, 'e': 4, 'f': 2, 'x': 10, 'y': 20, 'z': 30}\n"
     ]
    }
   ],
   "source": [
    "another_d = {'x': 10, 'y': 20,'z': 30}\n",
    "d.update(another_d)\n",
    "print(d)"
   ]
  },
  {
   "cell_type": "markdown",
   "id": "4c5d566c-a4fe-4deb-ab3d-8dac3d8ba933",
   "metadata": {},
   "source": [
    "4. Write a Python program to convert key-values list to flat dictionary?"
   ]
  },
  {
   "cell_type": "code",
   "execution_count": 9,
   "id": "7c542133-74b4-4ba8-bd00-72224100de8a",
   "metadata": {},
   "outputs": [
    {
     "name": "stdout",
     "output_type": "stream",
     "text": [
      "{'a': 1, 'b': 2, 'c': 3, 'd': 4, 'e': 5}\n"
     ]
    }
   ],
   "source": [
    "keys = ['a','b','c','d','e']\n",
    "values = [1,2,3,4,5]\n",
    "new_d = dict(zip(keys, values))\n",
    "print(new_d)"
   ]
  },
  {
   "cell_type": "markdown",
   "id": "d107a11b-4083-4295-b7b3-4180b3326841",
   "metadata": {},
   "source": [
    "5. Write a Python program to insertion at the beginning in OrderedDict?"
   ]
  },
  {
   "cell_type": "code",
   "execution_count": 21,
   "id": "4652577b-9f4a-40be-be5c-5ab7a1e20d5b",
   "metadata": {},
   "outputs": [
    {
     "name": "stdout",
     "output_type": "stream",
     "text": [
      "OrderedDict([('x', 100), ('e', 5), ('c', 3), ('b', 2), ('a', 1), ('d', 4)])\n"
     ]
    }
   ],
   "source": [
    "from collections import OrderedDict\n",
    "od = OrderedDict({'e':5, 'c':3,'b':2,'a':1,'d':4})\n",
    "od.update({'x':100})\n",
    "od.move_to_end('x', last=False)\n",
    "print(od)"
   ]
  },
  {
   "cell_type": "markdown",
   "id": "3afbd298-8c24-44ba-a561-84bf62089f6d",
   "metadata": {},
   "source": [
    "6. Write a Python program to check order of character in string using OrderedDict()?"
   ]
  },
  {
   "cell_type": "code",
   "execution_count": 22,
   "id": "9d89994e-bcd1-4d7a-960a-7eeafccbf73e",
   "metadata": {},
   "outputs": [
    {
     "name": "stdout",
     "output_type": "stream",
     "text": [
      "OrderedDict([('H', 1), ('e', 1), ('l', 2), ('o', 2), (' ', 1), ('P', 1), ('y', 1), ('t', 1), ('h', 1), ('n', 1)])\n"
     ]
    }
   ],
   "source": [
    "from collections import OrderedDict\n",
    "\n",
    "def order_check(string):\n",
    "    char_dict = OrderedDict()\n",
    "    for char in string:\n",
    "        if char in char_dict:\n",
    "            char_dict[char] += 1\n",
    "        else:\n",
    "            char_dict[char] = 1\n",
    "    return char_dict\n",
    "\n",
    "print(order_check(\"Hello Python\"))"
   ]
  },
  {
   "cell_type": "markdown",
   "id": "deb7a808-c4b6-4c3d-878e-9ff87aba5997",
   "metadata": {},
   "source": [
    "7. Write a Python program to sort Python Dictionaries by Key or Value?"
   ]
  },
  {
   "cell_type": "code",
   "execution_count": 23,
   "id": "08f88d47-aee3-4d65-bf71-d53f8814b200",
   "metadata": {},
   "outputs": [
    {
     "name": "stdout",
     "output_type": "stream",
     "text": [
      "{'bar': 2, 'baz': 3, 'foo': 1}\n"
     ]
    }
   ],
   "source": [
    "d = {'foo': 1, 'bar': 2, 'baz': 3}\n",
    "sorted_dict = dict(sorted(d.items()))\n",
    "print(sorted_dict)"
   ]
  },
  {
   "cell_type": "code",
   "execution_count": 24,
   "id": "eaa79927-9665-4511-9e84-17c2dbfeb465",
   "metadata": {},
   "outputs": [
    {
     "name": "stdout",
     "output_type": "stream",
     "text": [
      "{'bar': 1, 'baz': 2, 'foo': 3}\n"
     ]
    }
   ],
   "source": [
    "d = {'foo': 3, 'bar': 1, 'baz': 2}\n",
    "sorted_dict = dict(sorted(d.items(), key=lambda x: x[1]))\n",
    "print(sorted_dict)"
   ]
  },
  {
   "cell_type": "code",
   "execution_count": null,
   "id": "202d4f7b-04cb-433f-a238-d1fe4178fb96",
   "metadata": {},
   "outputs": [],
   "source": []
  }
 ],
 "metadata": {
  "kernelspec": {
   "display_name": "Python 3 (ipykernel)",
   "language": "python",
   "name": "python3"
  },
  "language_info": {
   "codemirror_mode": {
    "name": "ipython",
    "version": 3
   },
   "file_extension": ".py",
   "mimetype": "text/x-python",
   "name": "python",
   "nbconvert_exporter": "python",
   "pygments_lexer": "ipython3",
   "version": "3.10.6"
  }
 },
 "nbformat": 4,
 "nbformat_minor": 5
}
