{
 "cells": [
  {
   "cell_type": "raw",
   "id": "8cf76900-9713-4d4a-bef9-3ded0f16385b",
   "metadata": {},
   "source": [
    "\n",
    "\n",
    "7. Write a Python program to sort Python Dictionaries by Key or Value?"
   ]
  },
  {
   "cell_type": "raw",
   "id": "01b80ea6-15c4-40c1-a635-ae073191d11b",
   "metadata": {},
   "source": [
    "1. Write a Python program to Extract Unique values dictionary values?"
   ]
  },
  {
   "cell_type": "code",
   "execution_count": 1,
   "id": "9d5cdb75-5548-4dfe-bca4-3e82ab80a157",
   "metadata": {},
   "outputs": [
    {
     "data": {
      "text/plain": [
       "{1, 2, 3, 4}"
      ]
     },
     "execution_count": 1,
     "metadata": {},
     "output_type": "execute_result"
    }
   ],
   "source": [
    "d = {'a': 1, 'b': 2, 'c': 1, 'd': 3, 'e': 4, 'f': 2 }\n",
    "set(d.values())"
   ]
  },
  {
   "cell_type": "raw",
   "id": "96c71289-7502-446e-b51b-c2b53c48129d",
   "metadata": {},
   "source": [
    "2. Write a Python program to find the sum of all items in a dictionary?"
   ]
  },
  {
   "cell_type": "code",
   "execution_count": 4,
   "id": "1e37b8af-dd9d-4c7e-ab19-127941488f49",
   "metadata": {},
   "outputs": [
    {
     "data": {
      "text/plain": [
       "13"
      ]
     },
     "execution_count": 4,
     "metadata": {},
     "output_type": "execute_result"
    }
   ],
   "source": [
    "sum(d.values())"
   ]
  },
  {
   "cell_type": "raw",
   "id": "383abb12-f5f8-43c6-a5c8-92c98f9a6a90",
   "metadata": {},
   "source": [
    "3. Write a Python program to Merging two Dictionaries?"
   ]
  },
  {
   "cell_type": "code",
   "execution_count": 6,
   "id": "0a5cad57-4242-48d3-9a77-43f6e409dbf2",
   "metadata": {},
   "outputs": [
    {
     "name": "stdout",
     "output_type": "stream",
     "text": [
      "{'a': 1, 'b': 2, 'c': 1, 'd': 3, 'e': 4, 'f': 2, 'x': 10, 'y': 20, 'z': 30}\n"
     ]
    }
   ],
   "source": [
    "another_d = {'x': 10, 'y': 20,'z': 30}\n",
    "d.update(another_d)\n",
    "print(d)"
   ]
  },
  {
   "cell_type": "raw",
   "id": "a4b45218-a6df-4f29-80db-87034f212944",
   "metadata": {},
   "source": [
    "4. Write a Python program to convert key-values list to flat dictionary?"
   ]
  },
  {
   "cell_type": "code",
   "execution_count": 9,
   "id": "7c542133-74b4-4ba8-bd00-72224100de8a",
   "metadata": {},
   "outputs": [
    {
     "name": "stdout",
     "output_type": "stream",
     "text": [
      "{'a': 1, 'b': 2, 'c': 3, 'd': 4, 'e': 5}\n"
     ]
    }
   ],
   "source": [
    "keys = ['a','b','c','d','e']\n",
    "values = [1,2,3,4,5]\n",
    "new_d = dict(zip(keys, values))\n",
    "print(new_d)"
   ]
  },
  {
   "cell_type": "raw",
   "id": "3e6c08bc-d629-40f8-83b1-cf5f40b86ff6",
   "metadata": {},
   "source": [
    "5. Write a Python program to insertion at the beginning in OrderedDict?"
   ]
  },
  {
   "cell_type": "code",
   "execution_count": 21,
   "id": "4652577b-9f4a-40be-be5c-5ab7a1e20d5b",
   "metadata": {},
   "outputs": [
    {
     "name": "stdout",
     "output_type": "stream",
     "text": [
      "OrderedDict([('x', 100), ('e', 5), ('c', 3), ('b', 2), ('a', 1), ('d', 4)])\n"
     ]
    }
   ],
   "source": [
    "from collections import OrderedDict\n",
    "od = OrderedDict({'e':5, 'c':3,'b':2,'a':1,'d':4})\n",
    "od.update({'x':100})\n",
    "od.move_to_end('x', last=False)\n",
    "print(od)"
   ]
  },
  {
   "cell_type": "code",
   "execution_count": 20,
   "id": "21923d2b-5d06-4bca-bf2a-268db575d60f",
   "metadata": {},
   "outputs": [
    {
     "name": "stdout",
     "output_type": "stream",
     "text": [
      "OrderedDict([('e', 5), ('c', 3), ('b', 2), ('a', 1), ('d', 4)])\n"
     ]
    }
   ],
   "source": [
    "print(od)"
   ]
  },
  {
   "cell_type": "raw",
   "id": "ed2a8466-72e1-4bb7-ae32-467b30c93b19",
   "metadata": {},
   "source": [
    "6. Write a Python program to check order of character in string using OrderedDict()?"
   ]
  },
  {
   "cell_type": "code",
   "execution_count": null,
   "id": "9d89994e-bcd1-4d7a-960a-7eeafccbf73e",
   "metadata": {},
   "outputs": [],
   "source": [
    "from collections import OrderedDict\n",
    "\n",
    "def order_check(string):\n",
    "    char_dict = OrderedDict()\n",
    "    for char in string:\n",
    "        if char in char_dict:\n",
    "            char_dict[char] += 1\n",
    "        else:\n",
    "            char_dict[char] = 1\n",
    "    return char_dict\n",
    "\n",
    "print(order_check(\"example\"))"
   ]
  }
 ],
 "metadata": {
  "kernelspec": {
   "display_name": "Python 3 (ipykernel)",
   "language": "python",
   "name": "python3"
  },
  "language_info": {
   "codemirror_mode": {
    "name": "ipython",
    "version": 3
   },
   "file_extension": ".py",
   "mimetype": "text/x-python",
   "name": "python",
   "nbconvert_exporter": "python",
   "pygments_lexer": "ipython3",
   "version": "3.10.6"
  }
 },
 "nbformat": 4,
 "nbformat_minor": 5
}
