{
 "cells": [
  {
   "cell_type": "markdown",
   "metadata": {
    "id": "NCW2epdyuJ-a"
   },
   "source": [
    "Q1. Find the largest number from the given list, use for loop.\n",
    "\n",
    "```\n",
    "numbers = [12, 75, 150, 180, 145, 525, 50]\n",
    "```"
   ]
  },
  {
   "cell_type": "code",
   "execution_count": 1,
   "metadata": {},
   "outputs": [
    {
     "name": "stdout",
     "output_type": "stream",
     "text": [
      "Largest number is 525\n"
     ]
    }
   ],
   "source": [
    "numbers = [12, 75, 150, 180, 145, 525, 50]\n",
    "big = numbers[0]\n",
    "for num in numbers:\n",
    "    if num > big:\n",
    "        big = num\n",
    "print(f\"Largest number is {big}\")"
   ]
  },
  {
   "cell_type": "markdown",
   "metadata": {
    "id": "Qsg0i1fTwEQj"
   },
   "source": [
    "Q2. Print all the even number between (1, 12)."
   ]
  },
  {
   "cell_type": "code",
   "execution_count": 2,
   "metadata": {},
   "outputs": [
    {
     "name": "stdout",
     "output_type": "stream",
     "text": [
      "Even numbers between 1 and 12 are: \n",
      "2 4 6 8 10 "
     ]
    }
   ],
   "source": [
    "print(\"Even numbers between 1 and 12 are: \")\n",
    "for n in range(1,12):\n",
    "    if n%2 == 0:\n",
    "        print(n, end=\" \")"
   ]
  },
  {
   "cell_type": "markdown",
   "metadata": {
    "id": "WG2QcDDhwi4a"
   },
   "source": [
    "Q3. Calculate the sum of all numbers from 1 to a given number\n",
    "    \n",
    "    Expected Output:\n",
    "\n",
    "    Enter number 10\n",
    "    \n",
    "    Sum is:  55\n"
   ]
  },
  {
   "cell_type": "code",
   "execution_count": 3,
   "metadata": {},
   "outputs": [
    {
     "name": "stdout",
     "output_type": "stream",
     "text": [
      "Enter number 10\n",
      "Sum is: 55\n"
     ]
    }
   ],
   "source": [
    "n = int(input(\"Enter number \"))\n",
    "sum = 0\n",
    "for i in range(n+1):\n",
    "    sum += i\n",
    "print(f\"Sum is: {sum}\")"
   ]
  },
  {
   "cell_type": "code",
   "execution_count": 6,
   "metadata": {},
   "outputs": [
    {
     "name": "stdout",
     "output_type": "stream",
     "text": [
      "Enter number 10\n",
      "Sum is: 55\n"
     ]
    }
   ],
   "source": [
    "n = int(input(\"Enter number \"))\n",
    "sum = n*(n+1)//2\n",
    "print(f\"Sum is: {sum}\")"
   ]
  },
  {
   "cell_type": "markdown",
   "metadata": {
    "id": "mc7lLUm5f4Cq"
   },
   "source": [
    "Q4. Write a program to display only those numbers from a list that satisfy the following conditions\n",
    "\n",
    "- The number must be divisible by five\n",
    "\n",
    "- If the number is greater than 150, then skip it and move to the next number\n",
    "\n",
    "- If the number is greater than 500, then stop the loop"
   ]
  },
  {
   "cell_type": "code",
   "execution_count": 7,
   "metadata": {
    "id": "P3Ct2ocKf6Hy"
   },
   "outputs": [
    {
     "name": "stdout",
     "output_type": "stream",
     "text": [
      "75\n",
      "150\n",
      "145\n"
     ]
    }
   ],
   "source": [
    "# Given:\n",
    "numbers = [12, 75, 150, 180, 145, 525, 50]\n",
    "for n in numbers:\n",
    "    if n>500:\n",
    "        break\n",
    "    elif n>150:\n",
    "        continue\n",
    "    elif n%5 == 0:\n",
    "        print(n)"
   ]
  },
  {
   "cell_type": "markdown",
   "metadata": {
    "id": "rrxWvy7nMnAs"
   },
   "source": [
    "Q5. Print the given list in reverse order.\n",
    "\n",
    "```\n",
    "list1 = [10, 20, 30, 40, 50]\n",
    "```"
   ]
  },
  {
   "cell_type": "code",
   "execution_count": 22,
   "metadata": {
    "id": "z-GDgPn3Nr0y"
   },
   "outputs": [
    {
     "name": "stdout",
     "output_type": "stream",
     "text": [
      "[50, 40, 30, 20, 10]\n",
      "50\n",
      "40\n",
      "30\n",
      "20\n",
      "10\n"
     ]
    }
   ],
   "source": [
    "list1 = [10, 20, 30, 40, 50]\n",
    "# Solution 1\n",
    "print(list1[::-1])\n",
    "\n",
    "#Solution 2\n",
    "for i in range(len(list1)-1,-1,-1):\n",
    "    print(list1[i])\n"
   ]
  },
  {
   "cell_type": "code",
   "execution_count": null,
   "metadata": {},
   "outputs": [],
   "source": []
  }
 ],
 "metadata": {
  "colab": {
   "collapsed_sections": [],
   "provenance": []
  },
  "kernelspec": {
   "display_name": "Python 3 (ipykernel)",
   "language": "python",
   "name": "python3"
  },
  "language_info": {
   "codemirror_mode": {
    "name": "ipython",
    "version": 3
   },
   "file_extension": ".py",
   "mimetype": "text/x-python",
   "name": "python",
   "nbconvert_exporter": "python",
   "pygments_lexer": "ipython3",
   "version": "3.9.7"
  }
 },
 "nbformat": 4,
 "nbformat_minor": 1
}
