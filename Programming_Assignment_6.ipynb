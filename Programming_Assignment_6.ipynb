{
 "cells": [
  {
   "cell_type": "markdown",
   "id": "34a94b0c",
   "metadata": {},
   "source": [
    "### 1. Write a Python Program to Display Fibonacci Sequence Using Recursion?"
   ]
  },
  {
   "cell_type": "code",
   "execution_count": 1,
   "id": "9a2f96ed",
   "metadata": {},
   "outputs": [
    {
     "name": "stdout",
     "output_type": "stream",
     "text": [
      "How many fibonacci numbers you wan tto display?9\n",
      "0\n",
      "1\n",
      "1\n",
      "2\n",
      "3\n",
      "5\n",
      "8\n",
      "13\n",
      "21\n"
     ]
    }
   ],
   "source": [
    "def fibonacci(n):\n",
    "    if n <= 1:\n",
    "        return n\n",
    "    return fibonacci(n-1) + fibonacci(n-2)\n",
    "n = int(input(\"How many fibonacci numbers you wan tto display?\"))\n",
    "for i in range(n):\n",
    "    print(fibonacci(i))"
   ]
  },
  {
   "cell_type": "markdown",
   "id": "e2b375f4",
   "metadata": {},
   "source": [
    "### 2. Write a Python Program to Find Factorial of Number Using Recursion?"
   ]
  },
  {
   "cell_type": "code",
   "execution_count": 2,
   "id": "3d2ed6fd",
   "metadata": {},
   "outputs": [
    {
     "name": "stdout",
     "output_type": "stream",
     "text": [
      "Enter a numbeer: 5\n",
      "5! = 120\n"
     ]
    }
   ],
   "source": [
    "def fact(n):\n",
    "    if n==1:\n",
    "        return 1\n",
    "    else:\n",
    "        return n * fact(n-1)\n",
    "n = int(input(\"Enter a numbeer: \"))\n",
    "print(f\"{n}! = {fact(n)}\")"
   ]
  },
  {
   "cell_type": "markdown",
   "id": "fb9fe094",
   "metadata": {},
   "source": [
    "### 3. Write a Python Program to calculate your Body Mass Index?"
   ]
  },
  {
   "cell_type": "code",
   "execution_count": 3,
   "id": "12bcc6ae",
   "metadata": {},
   "outputs": [
    {
     "name": "stdout",
     "output_type": "stream",
     "text": [
      "Enter your weight in KG 84\n",
      "Enter your height in Meater 1.66\n",
      "Your BMI is 30.48337930033387 kg/m^2\n"
     ]
    }
   ],
   "source": [
    "weight = float(input(\"Enter your weight in KG \"))\n",
    "height = float(input(\"Enter your height in Meater \"))\n",
    "bmi = weight / height**2\n",
    "print(f\"Your BMI is {bmi} kg/m^2\")"
   ]
  },
  {
   "cell_type": "markdown",
   "id": "c20d5cdb",
   "metadata": {},
   "source": [
    "### 4. Write a Python Program to calculate the natural logarithm of any number?"
   ]
  },
  {
   "cell_type": "code",
   "execution_count": 4,
   "id": "0b615ccf",
   "metadata": {},
   "outputs": [
    {
     "name": "stdout",
     "output_type": "stream",
     "text": [
      "Enter a number 4\n",
      "log(4) = 1.3862943611198906\n"
     ]
    }
   ],
   "source": [
    "from math import log\n",
    "n = int(input(\"Enter a number \"))\n",
    "print(f\"log({n}) = {log(n)}\")"
   ]
  },
  {
   "cell_type": "markdown",
   "id": "358a1ad7",
   "metadata": {},
   "source": [
    "### 5. Write a Python Program for cube sum of first n natural numbers?"
   ]
  },
  {
   "cell_type": "code",
   "execution_count": 5,
   "id": "12629a55",
   "metadata": {},
   "outputs": [
    {
     "name": "stdout",
     "output_type": "stream",
     "text": [
      "Enter the last number of the series 5\n",
      "Sum = 225.0\n"
     ]
    }
   ],
   "source": [
    "from math import pow\n",
    "n = int(input(\"Enter the last number of the series \"))\n",
    "s = 0\n",
    "for num in range(1,n+1):\n",
    "    s += pow(num,3)\n",
    "print(f\"Sum = {s}\")"
   ]
  },
  {
   "cell_type": "code",
   "execution_count": null,
   "id": "603918bc",
   "metadata": {},
   "outputs": [],
   "source": []
  }
 ],
 "metadata": {
  "kernelspec": {
   "display_name": "Python 3",
   "language": "python",
   "name": "python3"
  },
  "language_info": {
   "codemirror_mode": {
    "name": "ipython",
    "version": 3
   },
   "file_extension": ".py",
   "mimetype": "text/x-python",
   "name": "python",
   "nbconvert_exporter": "python",
   "pygments_lexer": "ipython3",
   "version": "3.8.8"
  }
 },
 "nbformat": 4,
 "nbformat_minor": 5
}
