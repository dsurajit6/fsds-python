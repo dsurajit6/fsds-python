{
 "cells": [
  {
   "cell_type": "code",
   "execution_count": 2,
   "id": "7f9e6a3c",
   "metadata": {},
   "outputs": [
    {
     "name": "stdout",
     "output_type": "stream",
     "text": [
      "Enter a string: hello\n",
      "length of the string is 5\n"
     ]
    }
   ],
   "source": [
    "my_str = input(\"Enter a string: \")\n",
    "l=0\n",
    "for _ in my_str:\n",
    "    l += 1\n",
    "print(f\"length of the string is {l}\")"
   ]
  },
  {
   "cell_type": "code",
   "execution_count": 13,
   "id": "dac699b4",
   "metadata": {},
   "outputs": [
    {
     "name": "stdout",
     "output_type": "stream",
     "text": [
      "enter the element you are looking for 7\n",
      "7 is present in index 6\n"
     ]
    }
   ],
   "source": [
    "lst = [1,2,3,4,5,6,7,8,9]\n",
    "i = 0\n",
    "x = int(input(\"enter the element you are looking for \"))\n",
    "found = False\n",
    "for i in range(len(lst)):\n",
    "    if lst[i] == x:\n",
    "        found=True\n",
    "        break\n",
    "if found:\n",
    "    print(f\"{x} is present in index {i}\")\n",
    "else:\n",
    "    print(f\"{x} is not availabel\")\n",
    "    "
   ]
  },
  {
   "cell_type": "code",
   "execution_count": 16,
   "id": "0ad79384",
   "metadata": {},
   "outputs": [
    {
     "name": "stdout",
     "output_type": "stream",
     "text": [
      "Your Computer IP Address is:192.168.29.29\n"
     ]
    }
   ],
   "source": [
    "import socket\n",
    "def myIP():\n",
    "    hostname=socket.gethostname()   \n",
    "    ipv4=socket.gethostbyname(hostname)     \n",
    "    return ipv4\n",
    "print(\"Your Computer IP Address is:\"+myIP())"
   ]
  },
  {
   "cell_type": "code",
   "execution_count": 18,
   "id": "7c92835f",
   "metadata": {},
   "outputs": [
    {
     "name": "stdout",
     "output_type": "stream",
     "text": [
      "product of numeric item is 70.0\n"
     ]
    }
   ],
   "source": [
    "def product(l):\n",
    "    product=0\n",
    "    for item in l:\n",
    "        if type(item)==int or type(item)==float:\n",
    "            product = item if product==0 else product*item\n",
    "    return product\n",
    "l = [\"a\", 2, 3.5, \"c\", True, 10, \"fsds\"]\n",
    "res = product(l)\n",
    "print(f\"product of numeric item is {res}\")"
   ]
  },
  {
   "cell_type": "code",
   "execution_count": null,
   "id": "2978e7d9",
   "metadata": {},
   "outputs": [],
   "source": []
  }
 ],
 "metadata": {
  "kernelspec": {
   "display_name": "Python 3",
   "language": "python",
   "name": "python3"
  },
  "language_info": {
   "codemirror_mode": {
    "name": "ipython",
    "version": 3
   },
   "file_extension": ".py",
   "mimetype": "text/x-python",
   "name": "python",
   "nbconvert_exporter": "python",
   "pygments_lexer": "ipython3",
   "version": "3.8.8"
  }
 },
 "nbformat": 4,
 "nbformat_minor": 5
}
