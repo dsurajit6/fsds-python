{
 "cells": [
  {
   "cell_type": "code",
   "execution_count": 24,
   "id": "51189bbe",
   "metadata": {},
   "outputs": [],
   "source": [
    "lst = [1,5,3,2,6,4,9,7,8,10]"
   ]
  },
  {
   "cell_type": "markdown",
   "id": "3b498105",
   "metadata": {},
   "source": [
    "1. Write a Python program to find sum of elements in list?"
   ]
  },
  {
   "cell_type": "code",
   "execution_count": 25,
   "id": "59fa8e59",
   "metadata": {},
   "outputs": [
    {
     "name": "stdout",
     "output_type": "stream",
     "text": [
      "Sum of the list eleemnts are : 55\n"
     ]
    }
   ],
   "source": [
    "print(\"Sum of the list eleemnts are :\",sum(lst))"
   ]
  },
  {
   "cell_type": "markdown",
   "id": "c04ee09b",
   "metadata": {},
   "source": [
    "2. Write a Python program to Multiply all numbers in the list?"
   ]
  },
  {
   "cell_type": "code",
   "execution_count": 26,
   "id": "b9825eb1",
   "metadata": {},
   "outputs": [
    {
     "name": "stdout",
     "output_type": "stream",
     "text": [
      "Product of the list elements are:  3628800\n"
     ]
    }
   ],
   "source": [
    "res = 1\n",
    "for i in lst:\n",
    "    res *= i\n",
    "print(\"Product of the list elements are: \", res)"
   ]
  },
  {
   "cell_type": "markdown",
   "id": "4c2b1bb3",
   "metadata": {},
   "source": [
    "3. Write a Python program to find smallest number in a list?"
   ]
  },
  {
   "cell_type": "code",
   "execution_count": 27,
   "id": "a9dd9487",
   "metadata": {},
   "outputs": [
    {
     "name": "stdout",
     "output_type": "stream",
     "text": [
      "Smallest number in the list is  1\n"
     ]
    }
   ],
   "source": [
    "print(\"Smallest number in the list is \",min(lst))"
   ]
  },
  {
   "cell_type": "markdown",
   "id": "5f15bc49",
   "metadata": {},
   "source": [
    "4. Write a Python program to find largest number in a list?"
   ]
  },
  {
   "cell_type": "code",
   "execution_count": 28,
   "id": "74596005",
   "metadata": {},
   "outputs": [
    {
     "name": "stdout",
     "output_type": "stream",
     "text": [
      "Largest number in the list is  10\n"
     ]
    }
   ],
   "source": [
    "print(\"Largest number in the list is \",max(lst))"
   ]
  },
  {
   "cell_type": "markdown",
   "id": "b5db75cd",
   "metadata": {},
   "source": [
    "5. Write a Python program to find second largest number in a list?"
   ]
  },
  {
   "cell_type": "code",
   "execution_count": 29,
   "id": "ca61ab25",
   "metadata": {},
   "outputs": [
    {
     "name": "stdout",
     "output_type": "stream",
     "text": [
      "Second largest number is  5\n"
     ]
    }
   ],
   "source": [
    "newLst = list(set(lst))\n",
    "newLst.sort(reverse=True)\n",
    "print(\"Second largest number is \",lst[1])"
   ]
  },
  {
   "cell_type": "markdown",
   "id": "ca490b99",
   "metadata": {},
   "source": [
    "6. Write a Python program to find N largest elements from a list?"
   ]
  },
  {
   "cell_type": "code",
   "execution_count": 30,
   "id": "7160c9b1",
   "metadata": {},
   "outputs": [
    {
     "name": "stdout",
     "output_type": "stream",
     "text": [
      "Number of largest numbers you want? 4\n",
      "[10, 9, 8, 7]\n"
     ]
    }
   ],
   "source": [
    "newLst = list(set(lst))\n",
    "newLst.sort(reverse=True)\n",
    "n = int(input(\"Number of largest numbers you want? \"))\n",
    "if(n>len(newLst)):\n",
    "    print(\"Invalid Number of largest elements\")\n",
    "else:\n",
    "    print(newLst[:n])"
   ]
  },
  {
   "cell_type": "markdown",
   "id": "a0fb37fb",
   "metadata": {},
   "source": [
    "7. Write a Python program to print even numbers in a list?"
   ]
  },
  {
   "cell_type": "code",
   "execution_count": 31,
   "id": "9edb441e",
   "metadata": {},
   "outputs": [
    {
     "name": "stdout",
     "output_type": "stream",
     "text": [
      "[2, 6, 4, 8, 10]\n"
     ]
    }
   ],
   "source": [
    "evenLst = [x for x in lst if x%2==0]\n",
    "print(evenLst)"
   ]
  },
  {
   "cell_type": "markdown",
   "id": "2e651a93",
   "metadata": {},
   "source": [
    "8. Write a Python program to print odd numbers in a List?"
   ]
  },
  {
   "cell_type": "code",
   "execution_count": 32,
   "id": "e3d09e84",
   "metadata": {},
   "outputs": [
    {
     "name": "stdout",
     "output_type": "stream",
     "text": [
      "[1, 5, 3, 9, 7]\n"
     ]
    }
   ],
   "source": [
    "evenLst = [x for x in lst if x%2!=0]\n",
    "print(evenLst)"
   ]
  },
  {
   "cell_type": "markdown",
   "id": "be577a7b",
   "metadata": {},
   "source": [
    "9. Write a Python program to Remove empty List from List?"
   ]
  },
  {
   "cell_type": "code",
   "execution_count": 33,
   "id": "d3c9cf12",
   "metadata": {},
   "outputs": [
    {
     "name": "stdout",
     "output_type": "stream",
     "text": [
      "List after empty list removal : [2, 1, 30, 28]\n"
     ]
    }
   ],
   "source": [
    "lst2 = [[],2, 1, [], 30, [], [], 28]\n",
    "newLst2 = [ele for ele in lst2 if ele != []]\n",
    "print(\"List after empty list removal : \" + str(newLst2))"
   ]
  },
  {
   "cell_type": "markdown",
   "id": "9aa33d37",
   "metadata": {},
   "source": [
    "10. Write a Python program to Cloning or Copying a list?"
   ]
  },
  {
   "cell_type": "code",
   "execution_count": 34,
   "id": "2d3dd132",
   "metadata": {},
   "outputs": [
    {
     "name": "stdout",
     "output_type": "stream",
     "text": [
      "[1, 5, 3, 2, 6, 4, 9, 7, 8, 10]\n"
     ]
    }
   ],
   "source": [
    "newLst = [x for x in lst]\n",
    "print(newLst)"
   ]
  },
  {
   "cell_type": "markdown",
   "id": "fb3f46d2",
   "metadata": {},
   "source": [
    "11. Write a Python program to Count occurrences of an element in a list?"
   ]
  },
  {
   "cell_type": "code",
   "execution_count": 35,
   "id": "758c1634",
   "metadata": {},
   "outputs": [
    {
     "name": "stdout",
     "output_type": "stream",
     "text": [
      "2 appears 3 times\n"
     ]
    }
   ],
   "source": [
    "lst = [1,2,3,4,2,5,2,6,7,9]\n",
    "key = 2\n",
    "count = 0\n",
    "for n in lst:\n",
    "    if n == key:\n",
    "        count += 1\n",
    "print(f\"{key} appears {count} times\")"
   ]
  },
  {
   "cell_type": "code",
   "execution_count": null,
   "id": "2643e17e",
   "metadata": {},
   "outputs": [],
   "source": []
  }
 ],
 "metadata": {
  "kernelspec": {
   "display_name": "Python 3",
   "language": "python",
   "name": "python3"
  },
  "language_info": {
   "codemirror_mode": {
    "name": "ipython",
    "version": 3
   },
   "file_extension": ".py",
   "mimetype": "text/x-python",
   "name": "python",
   "nbconvert_exporter": "python",
   "pygments_lexer": "ipython3",
   "version": "3.8.8"
  }
 },
 "nbformat": 4,
 "nbformat_minor": 5
}
