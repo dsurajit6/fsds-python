{
 "cells": [
  {
   "cell_type": "markdown",
   "id": "cb7225f7",
   "metadata": {},
   "source": [
    "### Write a Python program to print &quot;Hello Python&quot;?"
   ]
  },
  {
   "cell_type": "code",
   "execution_count": 2,
   "id": "5b17f14a",
   "metadata": {},
   "outputs": [
    {
     "name": "stdout",
     "output_type": "stream",
     "text": [
      "Hello Python\n"
     ]
    }
   ],
   "source": [
    "print(\"Hello Python\")"
   ]
  },
  {
   "cell_type": "markdown",
   "id": "c3f3a1da",
   "metadata": {},
   "source": [
    "### Write a Python program to do arithmetical operations addition and division.?"
   ]
  },
  {
   "cell_type": "code",
   "execution_count": 3,
   "id": "9396bf3d",
   "metadata": {},
   "outputs": [
    {
     "name": "stdout",
     "output_type": "stream",
     "text": [
      "Enter first number7\n",
      "Enter second number2\n",
      "Sum=9\n",
      "Quotient=3.5\n"
     ]
    }
   ],
   "source": [
    "a = int(input(\"Enter first number\"))\n",
    "b = int(input(\"Enter second number\"))\n",
    "print(f'Sum={a+b}')\n",
    "print(f'Quotient={a/b}')"
   ]
  },
  {
   "cell_type": "markdown",
   "id": "72990f74",
   "metadata": {},
   "source": [
    "### Write a Python program to find the area of a triangle?"
   ]
  },
  {
   "cell_type": "code",
   "execution_count": 4,
   "id": "a0f39873",
   "metadata": {},
   "outputs": [
    {
     "name": "stdout",
     "output_type": "stream",
     "text": [
      "Enter Height: 5\n",
      "Enter base: 3\n",
      "area of the triangle is 7.5\n"
     ]
    }
   ],
   "source": [
    "height = float(input(\"Enter Height: \"))\n",
    "base = float(input(\"Enter base: \"))\n",
    "area = (height*base)/2\n",
    "print(f'area of the triangle is {area}')"
   ]
  },
  {
   "cell_type": "markdown",
   "id": "22ea047f",
   "metadata": {},
   "source": [
    "### Write a Python program to swap two variables?"
   ]
  },
  {
   "cell_type": "code",
   "execution_count": 5,
   "id": "659798eb",
   "metadata": {},
   "outputs": [
    {
     "name": "stdout",
     "output_type": "stream",
     "text": [
      "Enter first number: 4\n",
      "Enter second number: 5\n",
      "After swaping first number = 5 second number = 4\n"
     ]
    }
   ],
   "source": [
    "num_one = int(input(\"Enter first number: \"))\n",
    "num_two = int(input(\"Enter second number: \"))\n",
    "num_one, num_two = num_two, num_one\n",
    "print(f\"After swaping first number = {num_one} second number = {num_two}\")"
   ]
  },
  {
   "cell_type": "markdown",
   "id": "1b90aa61",
   "metadata": {},
   "source": [
    "### Write a Python program to generate a random number?"
   ]
  },
  {
   "cell_type": "code",
   "execution_count": 11,
   "id": "901f9afc",
   "metadata": {},
   "outputs": [
    {
     "name": "stdout",
     "output_type": "stream",
     "text": [
      "The random number is 3315\n"
     ]
    }
   ],
   "source": [
    "from random import randint\n",
    "print(f\"The random number is {randint(1,10000)}\")"
   ]
  },
  {
   "cell_type": "code",
   "execution_count": null,
   "id": "fb540735",
   "metadata": {},
   "outputs": [],
   "source": []
  }
 ],
 "metadata": {
  "kernelspec": {
   "display_name": "Python 3",
   "language": "python",
   "name": "python3"
  },
  "language_info": {
   "codemirror_mode": {
    "name": "ipython",
    "version": 3
   },
   "file_extension": ".py",
   "mimetype": "text/x-python",
   "name": "python",
   "nbconvert_exporter": "python",
   "pygments_lexer": "ipython3",
   "version": "3.8.8"
  }
 },
 "nbformat": 4,
 "nbformat_minor": 5
}
