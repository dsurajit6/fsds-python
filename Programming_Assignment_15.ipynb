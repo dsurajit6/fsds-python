{
 "cells": [
  {
   "cell_type": "markdown",
   "id": "87d9ed5b-b4f5-4276-86ab-1e0b9c286ded",
   "metadata": {},
   "source": [
    "#### Please write a program using generator to print the numbers which can be divisible by 5 and 7 between 0 and n in comma separated form while n is input by console."
   ]
  },
  {
   "cell_type": "code",
   "execution_count": 1,
   "id": "df453d80-1cf8-4bc5-a7bb-5b9b2f5027d4",
   "metadata": {},
   "outputs": [
    {
     "name": "stdin",
     "output_type": "stream",
     "text": [
      "Enter the value of n 100\n"
     ]
    },
    {
     "name": "stdout",
     "output_type": "stream",
     "text": [
      "0,35,70\n"
     ]
    }
   ],
   "source": [
    "def five_seven_divisibles(end):\n",
    "    start = 0\n",
    "    while start <= end:\n",
    "        if start % 5 == 0 and start % 7 == 0:\n",
    "            yield start\n",
    "        start += 1\n",
    "\n",
    "limit = int(input(\"Enter the value of n\"))\n",
    "res =[str(n) for n in five_seven_divisibles(limit)]\n",
    "op = \",\".join(res)\n",
    "print(op)\n",
    "    "
   ]
  },
  {
   "cell_type": "markdown",
   "id": "a2372310-71a9-4126-a457-f6e8136b24ac",
   "metadata": {},
   "source": [
    "#### Please write a program using generator to print the even numbers between 0 and n in comma separated form while n is input by console."
   ]
  },
  {
   "cell_type": "code",
   "execution_count": 2,
   "id": "060a282e-1617-4ada-859c-a409d77815f4",
   "metadata": {},
   "outputs": [
    {
     "name": "stdin",
     "output_type": "stream",
     "text": [
      "Enter the value of n 10\n"
     ]
    },
    {
     "name": "stdout",
     "output_type": "stream",
     "text": [
      "0,2,4,6,8,10\n"
     ]
    }
   ],
   "source": [
    "def even_numbers(end):\n",
    "    start = 0\n",
    "    while start <= end:\n",
    "        if start%2 == 0:\n",
    "            yield start\n",
    "        start += 1\n",
    "\n",
    "limit = int(input(\"Enter the value of n\"))\n",
    "res =[str(n) for n in even_numbers(limit)]\n",
    "op = \",\".join(res)\n",
    "print(op)"
   ]
  },
  {
   "cell_type": "markdown",
   "id": "7be265d7-966c-424f-8fe0-6a9f93d0b834",
   "metadata": {},
   "source": [
    "#### Write a program using list comprehension to print the Fibonacci Sequence in comma separated form with a given n input by console."
   ]
  },
  {
   "cell_type": "code",
   "execution_count": 3,
   "id": "4df3dc04-2ef7-4805-b0c6-26023d5eb69c",
   "metadata": {},
   "outputs": [
    {
     "name": "stdin",
     "output_type": "stream",
     "text": [
      " 7\n"
     ]
    },
    {
     "name": "stdout",
     "output_type": "stream",
     "text": [
      "0,1,1,2,3,5,8,13\n"
     ]
    }
   ],
   "source": [
    "n = int(input())\n",
    "fib = [0, 1]\n",
    "[fib.append(fib[-2]+fib[-1]) for _ in range(n-1)]\n",
    "op = \",\".join(str(n) for n in fib)\n",
    "print(op)"
   ]
  },
  {
   "cell_type": "markdown",
   "id": "f48a3df4-f93a-4642-a403-9c607ff7fedc",
   "metadata": {},
   "source": [
    "#### Assuming that we have some email addresses in the &quot;username@companyname.com&quot; format, please write program to print the user name of a given email address. Both user names and company names are composed of letters only."
   ]
  },
  {
   "cell_type": "code",
   "execution_count": 4,
   "id": "7a6753d7-f1c1-40a9-91e8-d76bf6bc2689",
   "metadata": {},
   "outputs": [
    {
     "name": "stdin",
     "output_type": "stream",
     "text": [
      "Enter email:  jhon@google.com\n"
     ]
    },
    {
     "name": "stdout",
     "output_type": "stream",
     "text": [
      "Username:  jhon\n"
     ]
    }
   ],
   "source": [
    "email = input(\"Enter email: \")\n",
    "print(\"Username: \", email.split(\"@\")[0])"
   ]
  },
  {
   "cell_type": "markdown",
   "id": "509dea83-58af-41df-a7c6-3cbd0be3f30f",
   "metadata": {},
   "source": [
    "#### Define a class named Shape and its subclass Square. The Square class has an init function which takes a length as argument. Both classes have a area function which can print the area of the shape where Shape&#39;s area is 0 by default."
   ]
  },
  {
   "cell_type": "code",
   "execution_count": 5,
   "id": "5d58c7f4-adbf-41f5-bc19-0015e22b7cc3",
   "metadata": {},
   "outputs": [
    {
     "name": "stdout",
     "output_type": "stream",
     "text": [
      "100\n"
     ]
    }
   ],
   "source": [
    "class Shape:\n",
    "    def __init__(self):\n",
    "        self.area_value = 0\n",
    "    def area(self):\n",
    "        return self.area_value\n",
    "class Square(Shape):\n",
    "    def __init__(self, length):\n",
    "        self.length = length\n",
    "        self.area_value = 0\n",
    "    \n",
    "    def area(self):\n",
    "        return self.length * self.length\n",
    "\n",
    "square = Square(10)\n",
    "print(square.area())\n",
    "        "
   ]
  },
  {
   "cell_type": "code",
   "execution_count": null,
   "id": "73c8be39-0b9b-42f3-895a-0e2d4bbbe1d1",
   "metadata": {},
   "outputs": [],
   "source": []
  }
 ],
 "metadata": {
  "kernelspec": {
   "display_name": "Python 3 (ipykernel)",
   "language": "python",
   "name": "python3"
  },
  "language_info": {
   "codemirror_mode": {
    "name": "ipython",
    "version": 3
   },
   "file_extension": ".py",
   "mimetype": "text/x-python",
   "name": "python",
   "nbconvert_exporter": "python",
   "pygments_lexer": "ipython3",
   "version": "3.10.6"
  }
 },
 "nbformat": 4,
 "nbformat_minor": 5
}
